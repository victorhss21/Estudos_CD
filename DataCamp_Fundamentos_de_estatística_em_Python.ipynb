{
  "nbformat": 4,
  "nbformat_minor": 0,
  "metadata": {
    "colab": {
      "provenance": [],
      "collapsed_sections": [
        "E_nLbd8SkpwE",
        "dwSjo5KEf2uM",
        "TfmohilOW9Py",
        "_mbV4cpNXMKO",
        "Cvpxt8McFx1z",
        "ain00BpFJLb4",
        "fH2htGJ0kzjE",
        "fwxO-rhi9S3y",
        "-LgBR8w70iGr",
        "7-dcVC6IcV4V",
        "NCY23ddImTs7",
        "ogXGvy1RKMPV",
        "KX2vXHO-NyOW",
        "aeEzhr2nx9Tr",
        "Mzt-6_RkN3HH",
        "gjxSjdWdN6gp",
        "t2HBrW1eGGnk",
        "34NU0kXExoFq"
      ],
      "authorship_tag": "ABX9TyOzFSRrgyci4pIhtsViC/b7",
      "include_colab_link": true
    },
    "kernelspec": {
      "name": "python3",
      "display_name": "Python 3"
    },
    "language_info": {
      "name": "python"
    }
  },
  "cells": [
    {
      "cell_type": "markdown",
      "metadata": {
        "id": "view-in-github",
        "colab_type": "text"
      },
      "source": [
        "<a href=\"https://colab.research.google.com/github/victorhss21/Estudos_CD/blob/main/DataCamp_Fundamentos_de_estat%C3%ADstica_em_Python.ipynb\" target=\"_parent\"><img src=\"https://colab.research.google.com/assets/colab-badge.svg\" alt=\"Open In Colab\"/></a>"
      ]
    },
    {
      "cell_type": "markdown",
      "source": [
        "# **Introdução a Estatística em Python**"
      ],
      "metadata": {
        "id": "xoCHVYs-O-Qe"
      }
    },
    {
      "cell_type": "markdown",
      "source": [
        "## **1) Estatística de Resumo:**"
      ],
      "metadata": {
        "id": "E_nLbd8SkpwE"
      }
    },
    {
      "cell_type": "markdown",
      "source": [
        "### **00. Conjunto de dados fictícios**"
      ],
      "metadata": {
        "id": "dwSjo5KEf2uM"
      }
    },
    {
      "cell_type": "code",
      "source": [
        "import pandas as pd\n",
        "import numpy as np\n",
        "\n",
        "# Função para gerar dados aleatórios para o volume recebido\n",
        "def gerar_vol_recebido():\n",
        "    return np.random.randint(5, 10001)\n",
        "\n",
        "# Criando um DataFrame com 50 registros\n",
        "data = pd.DataFrame({\n",
        "    'id_cliente': range(1, 51),\n",
        "    'segmento': np.random.choice(['A', 'B', 'C'], size=50),\n",
        "    'vol_recebido': [gerar_vol_recebido() for _ in range(50)]\n",
        "})\n",
        "\n",
        "data.head()"
      ],
      "metadata": {
        "colab": {
          "base_uri": "https://localhost:8080/"
        },
        "id": "Ccg3o1Oyf8h2",
        "outputId": "11fbfaeb-a989-4ae1-d378-ac9e65824a88"
      },
      "execution_count": null,
      "outputs": [
        {
          "output_type": "execute_result",
          "data": {
            "text/plain": [
              "   id_cliente segmento  vol_recebido\n",
              "0           1        A          7826\n",
              "1           2        C          7134\n",
              "2           3        C          6083\n",
              "3           4        C          4581\n",
              "4           5        C           292"
            ],
            "text/html": [
              "\n",
              "  <div id=\"df-1910e3f3-2384-4fb1-9824-af721f72389a\" class=\"colab-df-container\">\n",
              "    <div>\n",
              "<style scoped>\n",
              "    .dataframe tbody tr th:only-of-type {\n",
              "        vertical-align: middle;\n",
              "    }\n",
              "\n",
              "    .dataframe tbody tr th {\n",
              "        vertical-align: top;\n",
              "    }\n",
              "\n",
              "    .dataframe thead th {\n",
              "        text-align: right;\n",
              "    }\n",
              "</style>\n",
              "<table border=\"1\" class=\"dataframe\">\n",
              "  <thead>\n",
              "    <tr style=\"text-align: right;\">\n",
              "      <th></th>\n",
              "      <th>id_cliente</th>\n",
              "      <th>segmento</th>\n",
              "      <th>vol_recebido</th>\n",
              "    </tr>\n",
              "  </thead>\n",
              "  <tbody>\n",
              "    <tr>\n",
              "      <th>0</th>\n",
              "      <td>1</td>\n",
              "      <td>A</td>\n",
              "      <td>7826</td>\n",
              "    </tr>\n",
              "    <tr>\n",
              "      <th>1</th>\n",
              "      <td>2</td>\n",
              "      <td>C</td>\n",
              "      <td>7134</td>\n",
              "    </tr>\n",
              "    <tr>\n",
              "      <th>2</th>\n",
              "      <td>3</td>\n",
              "      <td>C</td>\n",
              "      <td>6083</td>\n",
              "    </tr>\n",
              "    <tr>\n",
              "      <th>3</th>\n",
              "      <td>4</td>\n",
              "      <td>C</td>\n",
              "      <td>4581</td>\n",
              "    </tr>\n",
              "    <tr>\n",
              "      <th>4</th>\n",
              "      <td>5</td>\n",
              "      <td>C</td>\n",
              "      <td>292</td>\n",
              "    </tr>\n",
              "  </tbody>\n",
              "</table>\n",
              "</div>\n",
              "    <div class=\"colab-df-buttons\">\n",
              "\n",
              "  <div class=\"colab-df-container\">\n",
              "    <button class=\"colab-df-convert\" onclick=\"convertToInteractive('df-1910e3f3-2384-4fb1-9824-af721f72389a')\"\n",
              "            title=\"Convert this dataframe to an interactive table.\"\n",
              "            style=\"display:none;\">\n",
              "\n",
              "  <svg xmlns=\"http://www.w3.org/2000/svg\" height=\"24px\" viewBox=\"0 -960 960 960\">\n",
              "    <path d=\"M120-120v-720h720v720H120Zm60-500h600v-160H180v160Zm220 220h160v-160H400v160Zm0 220h160v-160H400v160ZM180-400h160v-160H180v160Zm440 0h160v-160H620v160ZM180-180h160v-160H180v160Zm440 0h160v-160H620v160Z\"/>\n",
              "  </svg>\n",
              "    </button>\n",
              "\n",
              "  <style>\n",
              "    .colab-df-container {\n",
              "      display:flex;\n",
              "      gap: 12px;\n",
              "    }\n",
              "\n",
              "    .colab-df-convert {\n",
              "      background-color: #E8F0FE;\n",
              "      border: none;\n",
              "      border-radius: 50%;\n",
              "      cursor: pointer;\n",
              "      display: none;\n",
              "      fill: #1967D2;\n",
              "      height: 32px;\n",
              "      padding: 0 0 0 0;\n",
              "      width: 32px;\n",
              "    }\n",
              "\n",
              "    .colab-df-convert:hover {\n",
              "      background-color: #E2EBFA;\n",
              "      box-shadow: 0px 1px 2px rgba(60, 64, 67, 0.3), 0px 1px 3px 1px rgba(60, 64, 67, 0.15);\n",
              "      fill: #174EA6;\n",
              "    }\n",
              "\n",
              "    .colab-df-buttons div {\n",
              "      margin-bottom: 4px;\n",
              "    }\n",
              "\n",
              "    [theme=dark] .colab-df-convert {\n",
              "      background-color: #3B4455;\n",
              "      fill: #D2E3FC;\n",
              "    }\n",
              "\n",
              "    [theme=dark] .colab-df-convert:hover {\n",
              "      background-color: #434B5C;\n",
              "      box-shadow: 0px 1px 3px 1px rgba(0, 0, 0, 0.15);\n",
              "      filter: drop-shadow(0px 1px 2px rgba(0, 0, 0, 0.3));\n",
              "      fill: #FFFFFF;\n",
              "    }\n",
              "  </style>\n",
              "\n",
              "    <script>\n",
              "      const buttonEl =\n",
              "        document.querySelector('#df-1910e3f3-2384-4fb1-9824-af721f72389a button.colab-df-convert');\n",
              "      buttonEl.style.display =\n",
              "        google.colab.kernel.accessAllowed ? 'block' : 'none';\n",
              "\n",
              "      async function convertToInteractive(key) {\n",
              "        const element = document.querySelector('#df-1910e3f3-2384-4fb1-9824-af721f72389a');\n",
              "        const dataTable =\n",
              "          await google.colab.kernel.invokeFunction('convertToInteractive',\n",
              "                                                    [key], {});\n",
              "        if (!dataTable) return;\n",
              "\n",
              "        const docLinkHtml = 'Like what you see? Visit the ' +\n",
              "          '<a target=\"_blank\" href=https://colab.research.google.com/notebooks/data_table.ipynb>data table notebook</a>'\n",
              "          + ' to learn more about interactive tables.';\n",
              "        element.innerHTML = '';\n",
              "        dataTable['output_type'] = 'display_data';\n",
              "        await google.colab.output.renderOutput(dataTable, element);\n",
              "        const docLink = document.createElement('div');\n",
              "        docLink.innerHTML = docLinkHtml;\n",
              "        element.appendChild(docLink);\n",
              "      }\n",
              "    </script>\n",
              "  </div>\n",
              "\n",
              "\n",
              "<div id=\"df-186a1d6b-f7cb-4df5-92d9-a297a199923c\">\n",
              "  <button class=\"colab-df-quickchart\" onclick=\"quickchart('df-186a1d6b-f7cb-4df5-92d9-a297a199923c')\"\n",
              "            title=\"Suggest charts\"\n",
              "            style=\"display:none;\">\n",
              "\n",
              "<svg xmlns=\"http://www.w3.org/2000/svg\" height=\"24px\"viewBox=\"0 0 24 24\"\n",
              "     width=\"24px\">\n",
              "    <g>\n",
              "        <path d=\"M19 3H5c-1.1 0-2 .9-2 2v14c0 1.1.9 2 2 2h14c1.1 0 2-.9 2-2V5c0-1.1-.9-2-2-2zM9 17H7v-7h2v7zm4 0h-2V7h2v10zm4 0h-2v-4h2v4z\"/>\n",
              "    </g>\n",
              "</svg>\n",
              "  </button>\n",
              "\n",
              "<style>\n",
              "  .colab-df-quickchart {\n",
              "      --bg-color: #E8F0FE;\n",
              "      --fill-color: #1967D2;\n",
              "      --hover-bg-color: #E2EBFA;\n",
              "      --hover-fill-color: #174EA6;\n",
              "      --disabled-fill-color: #AAA;\n",
              "      --disabled-bg-color: #DDD;\n",
              "  }\n",
              "\n",
              "  [theme=dark] .colab-df-quickchart {\n",
              "      --bg-color: #3B4455;\n",
              "      --fill-color: #D2E3FC;\n",
              "      --hover-bg-color: #434B5C;\n",
              "      --hover-fill-color: #FFFFFF;\n",
              "      --disabled-bg-color: #3B4455;\n",
              "      --disabled-fill-color: #666;\n",
              "  }\n",
              "\n",
              "  .colab-df-quickchart {\n",
              "    background-color: var(--bg-color);\n",
              "    border: none;\n",
              "    border-radius: 50%;\n",
              "    cursor: pointer;\n",
              "    display: none;\n",
              "    fill: var(--fill-color);\n",
              "    height: 32px;\n",
              "    padding: 0;\n",
              "    width: 32px;\n",
              "  }\n",
              "\n",
              "  .colab-df-quickchart:hover {\n",
              "    background-color: var(--hover-bg-color);\n",
              "    box-shadow: 0 1px 2px rgba(60, 64, 67, 0.3), 0 1px 3px 1px rgba(60, 64, 67, 0.15);\n",
              "    fill: var(--button-hover-fill-color);\n",
              "  }\n",
              "\n",
              "  .colab-df-quickchart-complete:disabled,\n",
              "  .colab-df-quickchart-complete:disabled:hover {\n",
              "    background-color: var(--disabled-bg-color);\n",
              "    fill: var(--disabled-fill-color);\n",
              "    box-shadow: none;\n",
              "  }\n",
              "\n",
              "  .colab-df-spinner {\n",
              "    border: 2px solid var(--fill-color);\n",
              "    border-color: transparent;\n",
              "    border-bottom-color: var(--fill-color);\n",
              "    animation:\n",
              "      spin 1s steps(1) infinite;\n",
              "  }\n",
              "\n",
              "  @keyframes spin {\n",
              "    0% {\n",
              "      border-color: transparent;\n",
              "      border-bottom-color: var(--fill-color);\n",
              "      border-left-color: var(--fill-color);\n",
              "    }\n",
              "    20% {\n",
              "      border-color: transparent;\n",
              "      border-left-color: var(--fill-color);\n",
              "      border-top-color: var(--fill-color);\n",
              "    }\n",
              "    30% {\n",
              "      border-color: transparent;\n",
              "      border-left-color: var(--fill-color);\n",
              "      border-top-color: var(--fill-color);\n",
              "      border-right-color: var(--fill-color);\n",
              "    }\n",
              "    40% {\n",
              "      border-color: transparent;\n",
              "      border-right-color: var(--fill-color);\n",
              "      border-top-color: var(--fill-color);\n",
              "    }\n",
              "    60% {\n",
              "      border-color: transparent;\n",
              "      border-right-color: var(--fill-color);\n",
              "    }\n",
              "    80% {\n",
              "      border-color: transparent;\n",
              "      border-right-color: var(--fill-color);\n",
              "      border-bottom-color: var(--fill-color);\n",
              "    }\n",
              "    90% {\n",
              "      border-color: transparent;\n",
              "      border-bottom-color: var(--fill-color);\n",
              "    }\n",
              "  }\n",
              "</style>\n",
              "\n",
              "  <script>\n",
              "    async function quickchart(key) {\n",
              "      const quickchartButtonEl =\n",
              "        document.querySelector('#' + key + ' button');\n",
              "      quickchartButtonEl.disabled = true;  // To prevent multiple clicks.\n",
              "      quickchartButtonEl.classList.add('colab-df-spinner');\n",
              "      try {\n",
              "        const charts = await google.colab.kernel.invokeFunction(\n",
              "            'suggestCharts', [key], {});\n",
              "      } catch (error) {\n",
              "        console.error('Error during call to suggestCharts:', error);\n",
              "      }\n",
              "      quickchartButtonEl.classList.remove('colab-df-spinner');\n",
              "      quickchartButtonEl.classList.add('colab-df-quickchart-complete');\n",
              "    }\n",
              "    (() => {\n",
              "      let quickchartButtonEl =\n",
              "        document.querySelector('#df-186a1d6b-f7cb-4df5-92d9-a297a199923c button');\n",
              "      quickchartButtonEl.style.display =\n",
              "        google.colab.kernel.accessAllowed ? 'block' : 'none';\n",
              "    })();\n",
              "  </script>\n",
              "</div>\n",
              "\n",
              "    </div>\n",
              "  </div>\n"
            ],
            "application/vnd.google.colaboratory.intrinsic+json": {
              "type": "dataframe",
              "variable_name": "data",
              "summary": "{\n  \"name\": \"data\",\n  \"rows\": 50,\n  \"fields\": [\n    {\n      \"column\": \"id_cliente\",\n      \"properties\": {\n        \"dtype\": \"number\",\n        \"std\": 14,\n        \"min\": 1,\n        \"max\": 50,\n        \"num_unique_values\": 50,\n        \"samples\": [\n          14,\n          40,\n          31\n        ],\n        \"semantic_type\": \"\",\n        \"description\": \"\"\n      }\n    },\n    {\n      \"column\": \"segmento\",\n      \"properties\": {\n        \"dtype\": \"category\",\n        \"num_unique_values\": 3,\n        \"samples\": [\n          \"A\",\n          \"C\",\n          \"B\"\n        ],\n        \"semantic_type\": \"\",\n        \"description\": \"\"\n      }\n    },\n    {\n      \"column\": \"vol_recebido\",\n      \"properties\": {\n        \"dtype\": \"number\",\n        \"std\": 2354,\n        \"min\": 292,\n        \"max\": 9126,\n        \"num_unique_values\": 50,\n        \"samples\": [\n          3618,\n          8452,\n          4122\n        ],\n        \"semantic_type\": \"\",\n        \"description\": \"\"\n      }\n    }\n  ]\n}"
            }
          },
          "metadata": {},
          "execution_count": 2
        }
      ]
    },
    {
      "cell_type": "markdown",
      "source": [
        "### **01. Medidas de tendência central** (resumir grandes conjuntos de dados com valores centrais)"
      ],
      "metadata": {
        "id": "TfmohilOW9Py"
      }
    },
    {
      "cell_type": "markdown",
      "source": [
        "#### **Média** ⟶ Valor médio do conunto de elementos (``np.mean(data)``)"
      ],
      "metadata": {
        "id": "fcWIG7E5gYjG"
      }
    },
    {
      "cell_type": "code",
      "source": [
        "# Import da biblioteca Numpy\n",
        "import numpy as np\n",
        "\n",
        "# Calculando a média o conjunto de dados\n",
        "media = np.mean(data['vol_recebido'])\n",
        "print(f'Média: {media}')"
      ],
      "metadata": {
        "colab": {
          "base_uri": "https://localhost:8080/"
        },
        "id": "8QZ6gx0qghK8",
        "outputId": "7896f4f2-2f4c-4489-83be-d5d084e833a9"
      },
      "execution_count": null,
      "outputs": [
        {
          "output_type": "stream",
          "name": "stdout",
          "text": [
            "Média: 5280.26\n"
          ]
        }
      ]
    },
    {
      "cell_type": "markdown",
      "source": [
        "#### **Mediana** ⟶ Valor situado no meio dos valores possíveis do conjunto de dados (``np.median(data)``)"
      ],
      "metadata": {
        "id": "fcEGoGI0gt_s"
      }
    },
    {
      "cell_type": "code",
      "source": [
        "# Import da biblioteca Numpy\n",
        "import numpy as np\n",
        "\n",
        "# Calculando a mediana do conjunto de dados\n",
        "mediana = np.median(data['vol_recebido'])\n",
        "print(f'Mediana: {mediana}')"
      ],
      "metadata": {
        "colab": {
          "base_uri": "https://localhost:8080/"
        },
        "id": "oFPEAyrogy80",
        "outputId": "4062fdf1-8e1f-42af-cf03-6716891c4e81"
      },
      "execution_count": null,
      "outputs": [
        {
          "output_type": "stream",
          "name": "stdout",
          "text": [
            "Mediana: 4674.5\n"
          ]
        }
      ]
    },
    {
      "cell_type": "markdown",
      "source": [
        "#### **Moda** ⟶ Valor que ocorre com maior frequência (``statistics.mode(data)``)"
      ],
      "metadata": {
        "id": "tvEH4hy8g4MM"
      }
    },
    {
      "cell_type": "code",
      "source": [
        "# Import da biblioteca Statistics\n",
        "import statistics\n",
        "\n",
        "# Calculando a moda do conjunto de dados\n",
        "moda = statistics.mode(data['vol_recebido'])\n",
        "print(f'Moda: {moda}')"
      ],
      "metadata": {
        "colab": {
          "base_uri": "https://localhost:8080/"
        },
        "id": "TrK7o1YPg-_m",
        "outputId": "ca743c03-e9f7-41ee-e715-b6c85aab35f5"
      },
      "execution_count": null,
      "outputs": [
        {
          "output_type": "stream",
          "name": "stdout",
          "text": [
            "Moda: 7826\n"
          ]
        }
      ]
    },
    {
      "cell_type": "markdown",
      "source": [
        "#### **Importante:** No cenário onde temos dados assimétricos (com a presença de valores extrermos/outliers), a média é bastante sensível e muito afeta. Em contraste, a mediana fornece uma melhor medida de tendência central nesses casos.\n"
      ],
      "metadata": {
        "id": "cTYHtASOPMs3"
      }
    },
    {
      "cell_type": "markdown",
      "source": [
        "### **02. Medidas de dispersão** (Descreve o quão espalhados ou próximos os pontos de dados estão)\n",
        "\n"
      ],
      "metadata": {
        "id": "_mbV4cpNXMKO"
      }
    },
    {
      "cell_type": "markdown",
      "source": [
        "#### **Variância** ⟶ Média dos quadrados dos desvios em relação à média (``np.vare(data, ddof=1)``)"
      ],
      "metadata": {
        "id": "_DY_CzIxiAJe"
      }
    },
    {
      "cell_type": "markdown",
      "source": [
        "> **Forma de calcular**:  \n",
        "  1. Para cada ponto de dados, subtrai-se a média dos dados (distância do ponto de dados para a média do conjunto, conhecido como _desvio_)\n",
        "  2. Elava-se ao quadrado cada distância encontrada\n",
        "  3. Somam-se todas as distância\n",
        "  4. Divide-se a soma pelo número do conjunto de pontos de dados*\n",
        ">\n",
        "> _*$(n-1)$ para conjuntos amostrais e $(n)$ para conjunto populacionais_"
      ],
      "metadata": {
        "id": "EKiqJ_h4iiC1"
      }
    },
    {
      "cell_type": "code",
      "source": [
        "# Import da biblioteca Numpy\n",
        "import numpy as np\n",
        "\n",
        "# Calculando a variância do conjunto de dados (considerando um conjunto amostral)\n",
        "variancia = np.var(data['vol_recebido'], ddof=1)\n",
        "print(f'Variância: {variancia}')"
      ],
      "metadata": {
        "colab": {
          "base_uri": "https://localhost:8080/"
        },
        "id": "GzEdkwPhiXV0",
        "outputId": "46af509b-ea87-4386-dddf-c60b2e75c612"
      },
      "execution_count": null,
      "outputs": [
        {
          "output_type": "stream",
          "name": "stdout",
          "text": [
            "Variância: 5543760.849387756\n"
          ]
        }
      ]
    },
    {
      "cell_type": "markdown",
      "source": [
        "  **Cometário 1**: Quando calculamos a variância para um conjunto de dados populacional, devemos dividir a soma das distância ao quadrado pelo número do conjunto de pontos de dados menos um $(n-1)$. Já quando estamos lidando com um conjunto de dados populacionais, devemos dividir pelo número de pontos de dados $(n)$.\n",
        "  \n",
        "  A divisão por $(n-1)$ quando estamos lidando com um conjunto amostral, é realizada para que possamos obter uma variância amostral sempre maior que a variância populacional, dado ao medir um parâmetro populacional a partir de uma amostra, temos vieses associados que sempre distanciam o parâmetro estimada a partir da amostra, do valor real do parâmetro populacional... É uma forma de inserir o erro intríseco ao fazer suposições a partir de dados amostrais.\n",
        "\n",
        "  **Comentário 2**: Quanto maior a variância, mais distante da média do dados os pontos de dados estão.\n",
        "\n",
        "  **Comentário 3** : A unidade da variância é quadrática, isto é, não reflete a real unidade do conjunto de dados que foi calculado a variância e sim a unidade ao quadrado.\n",
        "\n",
        "  **Comentário 4**: Devido a variância elevar os valores dos desvios ao quadrado, essa métrica de \"espalhamento\" penaliza pontos de dados mais distantes da média... Então a presença de outliers tem um efeito significativo na variância"
      ],
      "metadata": {
        "id": "Tbliwp2Ci7OX"
      }
    },
    {
      "cell_type": "markdown",
      "source": [
        "#### **Desvio Padrão** ⟶ Raiz quadrada da variância (``np.std(np.var(data), ddof=1)`` ou ``np.std(data, ddof=1)``)"
      ],
      "metadata": {
        "id": "LVf0cdjFeBPH"
      }
    },
    {
      "cell_type": "markdown",
      "source": [
        "> **Forma de calcular**:  \n",
        "  1. Para cada ponto de dados, subtrai-se a média dos dados (distância do ponto de dados para a média do conjunto, conhecido como _desvio_)\n",
        "  2. Elava-se ao quadrado cada distância encontrada\n",
        "  3. Somam-se todas as distância\n",
        "  4. Divide-se a soma pelo número do conjunto de pontos de dados*\n",
        "  5. Retira-se a raiz quadrado do valor obtido em no passo anterior\n",
        ">\n",
        "> _*$(n-1)$ para conjuntos amostrais e $(n)$ para conjunto populacionais_"
      ],
      "metadata": {
        "id": "o0c9UgzekGdv"
      }
    },
    {
      "cell_type": "code",
      "source": [
        "# Import da biblioteca Numpy\n",
        "import numpy as np\n",
        "\n",
        "# Calculando o desvio padrão do conjunto de dados (considerando um conjunto amostral)\n",
        "desvio_padrao = np.std(data['vol_recebido'], ddof=1)\n",
        "print(f'Desvio Padrão: {desvio_padrao}')"
      ],
      "metadata": {
        "colab": {
          "base_uri": "https://localhost:8080/"
        },
        "id": "l3opsZNelaPD",
        "outputId": "6489f5ab-1aa7-401f-efcc-133a88776678"
      },
      "execution_count": null,
      "outputs": [
        {
          "output_type": "stream",
          "name": "stdout",
          "text": [
            "Desvio Padrão: 2354.5192395450404\n"
          ]
        }
      ]
    },
    {
      "cell_type": "markdown",
      "source": [
        "**Comentário 1**: A unidade do desvio padrão (ao contrário da variância) é a mesma da conjunto de dados, isto é, reflete exatamente a real unidade dos dados, tornando sua utilização muito mais aderente, na prática\n",
        "\n",
        "**Comentário 2**: Quanto maior o desvio padrão, mais distante da média dos dados os pontos de dados estão.\n",
        "\n",
        "**Comentário 3**: Note que, existe uma relação intríseca entere o _desvio padrão_ e _variância_, um é a raiz quadrada do outro.\n",
        "\n",
        "**Comentário 4**: Assim como variância, o desvio padrão também penaliza pontos de dados com grandes desvios (isto é, distância em relação a média)... Em outras palavras, é sensível a outliers"
      ],
      "metadata": {
        "id": "s28TR5sOkVv8"
      }
    },
    {
      "cell_type": "markdown",
      "source": [
        "#### **Desvio Absoluto Médio** ⟶ Média dos valores absolutos dos devios em relação à média (``np.mean(np.abs(data - np.mean(data)))``"
      ],
      "metadata": {
        "id": "T42HWFilnkNW"
      }
    },
    {
      "cell_type": "markdown",
      "source": [
        "> **Forma de calcular**:  \n",
        "  1. Para cada ponto de dados, subtrai-se a média dos dados (distância do ponto de dados para a média do conjunto, conhecido como _desvio_)\n",
        "  2. Considera-se apenas o valor absoluto dos desvios\n",
        "  3. Somam-se todas as distância\n",
        "  4. Divide-se a soma pelo número do conjunto de pontos de dados"
      ],
      "metadata": {
        "id": "LRTHodxorVFW"
      }
    },
    {
      "cell_type": "code",
      "source": [
        "# Import da biblioteca Numpy\n",
        "import numpy as np\n",
        "\n",
        "# Calculando o devios absoluto médio\n",
        "desvio_absoluto_medio = np.mean(np.abs(data['vol_recebido'] - np.mean(data['vol_recebido'])))\n",
        "print(f'Desvio Absoluto Médio: {desvio_absoluto_medio}')"
      ],
      "metadata": {
        "colab": {
          "base_uri": "https://localhost:8080/"
        },
        "id": "JUferCukugry",
        "outputId": "77250a1f-c43a-44be-f209-da32b21a11b8"
      },
      "execution_count": null,
      "outputs": [
        {
          "output_type": "stream",
          "name": "stdout",
          "text": [
            "Desvio Absoluto Médio: 2035.0911999999998\n"
          ]
        }
      ]
    },
    {
      "cell_type": "markdown",
      "source": [
        "**Comentário 1**: De forma intuitiva, essa métrica de dispersão indica o quanto os pontos de dados, na média, se afastam da média do conjunto inteiro.\n",
        "\n",
        "**Comentário 2**: Uma das principais diferenças dessa métrica em relação a Variância de Desvio Padrão, é que ela penaliza cada ponto de dados igualmente, não importante se seus desvios são maiores (isso acontece porque os desvios não são elevados ao quadrado)... Ou seja, é robusta a outliers."
      ],
      "metadata": {
        "id": "T9P_7bkNrA-w"
      }
    },
    {
      "cell_type": "markdown",
      "source": [
        "#### **Intervalo Interquartil** ⟶ Distância entres os valores do Q1 (percentil 25%) e Q3 (percentil 75%) (``np.quantile(data, 0.75) -np.quantile(data, 0.25)) ``"
      ],
      "metadata": {
        "id": "ZP6BwFjJxasE"
      }
    },
    {
      "cell_type": "markdown",
      "source": [
        "> **Forma de calcular**:  \n",
        "  1. Calcula-se o valor do 1º Quartil\n",
        "  2. Calcula-se o valor do 2º Quartil\n",
        "  3. Subtrai o valor do 2º Quartil e 1º Quartil"
      ],
      "metadata": {
        "id": "xGaSqpne_ulg"
      }
    },
    {
      "cell_type": "code",
      "source": [
        "# Import da biblioteca Numpy e Stats\n",
        "import numpy as np\n",
        "import scipy.stats as stats\n",
        "\n",
        "# Calcula IQR (Opção 1)\n",
        "iqr_1 = np.quantile(data['vol_recebido'], 0.75) - np.quantile(data['vol_recebido'], 0.25)\n",
        "\n",
        "# Calcula IQR (Opção 2)\n",
        "iqr_2 = stats.iqr(data['vol_recebido'])\n",
        "\n",
        "print(f'Intervalo Interquartil (opção 1): {iqr_1}\\n')\n",
        "print(f'Intervalo Interquartil (opção 2): {iqr_2}')"
      ],
      "metadata": {
        "colab": {
          "base_uri": "https://localhost:8080/"
        },
        "id": "ViPjj9ZxAINp",
        "outputId": "b92363fd-dc6c-4fbb-a09b-3e7bda65777a"
      },
      "execution_count": null,
      "outputs": [
        {
          "output_type": "stream",
          "name": "stdout",
          "text": [
            "Intervalo Interquartil (opção 1): 3519.25\n",
            "\n",
            "Intervalo Interquartil (opção 2): 3519.25\n"
          ]
        }
      ]
    },
    {
      "cell_type": "markdown",
      "source": [
        "#### **Importante**: Não existe medida de dispersão melhor que a outra (especialmente se tratando de _Desvio Padrão_ vs _Desvio Absoluto Médio_), mas para casos onde deseja-se dar maior perso a outliers na mensuração da dispersão dos dados, é interessante utilizar o **Desvio Padrão** ou **Intervalo Interquartil**. Em contrapartida, quando deseja-se uma medida robusta a outliers, é interessante utilizar o **Devio Absoluto Médio** ou **IQR**"
      ],
      "metadata": {
        "id": "6x9XibPYtgPw"
      }
    },
    {
      "cell_type": "markdown",
      "source": [
        "### **03. Outliers** (Pontos de dados extremos em relação ao conjunto de dados a qual pertencem)\n",
        "\n"
      ],
      "metadata": {
        "id": "Cvpxt8McFx1z"
      }
    },
    {
      "cell_type": "markdown",
      "source": [
        "> **Forma de calcular**:  \n",
        "  1. Calcula-se o valor do 1º Quartil (Q1)\n",
        "  2. Calcula-se o valor do 2º Quartil (Q2)\n",
        "  3. Subtrai o valor do 2º Quartil e 1º Quartil (Intervalo Interquartil ou IQR)\n",
        "  4. Calcula-se o limite inferior: $Q1 - 1,5 · IQR$\n",
        "  5. Calcula-se o limite superior: $Q3 + 1,5 · IQR$\n",
        "  6. Identifica outlier: valores **abaixo** do **limite inferior** ou **acima** do **limite superior**"
      ],
      "metadata": {
        "id": "vd19ozflF9-x"
      }
    },
    {
      "cell_type": "code",
      "source": [
        "# Import do IQR\n",
        "from scipy.stats import iqr\n",
        "\n",
        "# Calculando o Q1, Q3 e IQR\n",
        "q1 = np.quantile(data['vol_recebido'], 0.25)\n",
        "q3 = np.quantile(data['vol_recebido'], 0.75)\n",
        "iqr = iqr(data['vol_recebido'])\n",
        "\n",
        "# Calculando os limites inferiores e superiores\n",
        "limite_inferior = q1 - 1.5 * iqr\n",
        "limite_superior = q3 + 1.5 * iqr\n",
        "\n",
        "# Identificando valores ouliers\n",
        "outliers = data[(data['vol_recebido'] < limite_inferior) | (data['vol_recebido'] > limite_superior)]\n",
        "\n",
        "print(f'Limite Inferior: {limite_inferior}')\n",
        "print(f'Limite Supeior: {limite_superior}\\n')\n",
        "\n",
        "print(f'Quantidade de outliers: {len(outliers)}')"
      ],
      "metadata": {
        "colab": {
          "base_uri": "https://localhost:8080/"
        },
        "id": "zJ547OxXEGzq",
        "outputId": "384bbb34-b982-492b-afde-6d0ab231dc77"
      },
      "execution_count": null,
      "outputs": [
        {
          "output_type": "stream",
          "name": "stdout",
          "text": [
            "Limite Inferior: -1679.625\n",
            "Limite Supeior: 12397.375\n",
            "\n",
            "Quantidade de outliers: 0\n"
          ]
        }
      ]
    },
    {
      "cell_type": "markdown",
      "source": [
        "### **Dica:** As principais medidas estatísticas de posição e dispersão, podem ser obtidas de forma facilitada por meio do método ``DataFrame.describe()`` do Pandas, trazendo muito praticidade/produtividade para o dia a dia."
      ],
      "metadata": {
        "id": "ain00BpFJLb4"
      }
    },
    {
      "cell_type": "code",
      "source": [
        "# Resumo estatístico dos dados\n",
        "data['vol_recebido'].describe()"
      ],
      "metadata": {
        "colab": {
          "base_uri": "https://localhost:8080/"
        },
        "id": "WGYG8d-VJtW8",
        "outputId": "81ebfa7f-76a8-4b1c-8e16-d89c78d05093"
      },
      "execution_count": null,
      "outputs": [
        {
          "output_type": "execute_result",
          "data": {
            "text/plain": [
              "count      50.00000\n",
              "mean     5280.26000\n",
              "std      2354.51924\n",
              "min       292.00000\n",
              "25%      3599.25000\n",
              "50%      4674.50000\n",
              "75%      7118.50000\n",
              "max      9126.00000\n",
              "Name: vol_recebido, dtype: float64"
            ],
            "text/html": [
              "<div>\n",
              "<style scoped>\n",
              "    .dataframe tbody tr th:only-of-type {\n",
              "        vertical-align: middle;\n",
              "    }\n",
              "\n",
              "    .dataframe tbody tr th {\n",
              "        vertical-align: top;\n",
              "    }\n",
              "\n",
              "    .dataframe thead th {\n",
              "        text-align: right;\n",
              "    }\n",
              "</style>\n",
              "<table border=\"1\" class=\"dataframe\">\n",
              "  <thead>\n",
              "    <tr style=\"text-align: right;\">\n",
              "      <th></th>\n",
              "      <th>vol_recebido</th>\n",
              "    </tr>\n",
              "  </thead>\n",
              "  <tbody>\n",
              "    <tr>\n",
              "      <th>count</th>\n",
              "      <td>50.00000</td>\n",
              "    </tr>\n",
              "    <tr>\n",
              "      <th>mean</th>\n",
              "      <td>5280.26000</td>\n",
              "    </tr>\n",
              "    <tr>\n",
              "      <th>std</th>\n",
              "      <td>2354.51924</td>\n",
              "    </tr>\n",
              "    <tr>\n",
              "      <th>min</th>\n",
              "      <td>292.00000</td>\n",
              "    </tr>\n",
              "    <tr>\n",
              "      <th>25%</th>\n",
              "      <td>3599.25000</td>\n",
              "    </tr>\n",
              "    <tr>\n",
              "      <th>50%</th>\n",
              "      <td>4674.50000</td>\n",
              "    </tr>\n",
              "    <tr>\n",
              "      <th>75%</th>\n",
              "      <td>7118.50000</td>\n",
              "    </tr>\n",
              "    <tr>\n",
              "      <th>max</th>\n",
              "      <td>9126.00000</td>\n",
              "    </tr>\n",
              "  </tbody>\n",
              "</table>\n",
              "</div><br><label><b>dtype:</b> float64</label>"
            ]
          },
          "metadata": {},
          "execution_count": 11
        }
      ]
    },
    {
      "cell_type": "markdown",
      "source": [
        "## **2) Números aleatórios e probabilidade**"
      ],
      "metadata": {
        "id": "fH2htGJ0kzjE"
      }
    },
    {
      "cell_type": "markdown",
      "source": [
        "### **00. Amostragem**"
      ],
      "metadata": {
        "id": "fwxO-rhi9S3y"
      }
    },
    {
      "cell_type": "markdown",
      "source": [
        "Existem dois tipos de amostragens:\n",
        "\n",
        "- Com reposição;\n",
        "- Sem reposição.\n",
        "\n",
        "> Em geral, **amostragem com reposição** implica que dois **eventos são independentes** (isto é, a **probabilidade do segundo evento acontecer não é influenciada pelo resultado do primeiro evento**). Ex: sorteio de nomes em uma urna. A cada evento de retirada de um nome, sempre haverá a mesma probabilidade do nome sair, dado que há reposição.\n",
        "\n",
        "> Em contrapartida, **amostragem sem reposição** implica que dois **eventos não são independentes** (isto é, a **probabilidade do segundo evento acontecer é influenciada pelo resultado do primeiro evento**). Ex: sorteio de nomes em uma urna. A cada evento de retirada de um nome, a probabilidade dos nomes restantes sairem muda (será sempre maior), dado que não há reposição e os nomes possíveis diminuem a cada rodada."
      ],
      "metadata": {
        "id": "R5ozDJ4S9Yuk"
      }
    },
    {
      "cell_type": "code",
      "source": [
        "# Import Numpy\n",
        "import numpy as np\n",
        "\n",
        "# Configura semente para reprodutibilidade do experimento\n",
        "np.random.seed(42)\n",
        "\n",
        "# Amostragem com reposição\n",
        "data.sample(5, replace=True)"
      ],
      "metadata": {
        "colab": {
          "base_uri": "https://localhost:8080/",
          "height": 206
        },
        "id": "taiVRBD8DlSw",
        "outputId": "3f73dae5-7fd7-4a2d-eff0-f2c69649e0e1"
      },
      "execution_count": null,
      "outputs": [
        {
          "output_type": "execute_result",
          "data": {
            "text/plain": [
              "    id_cliente segmento  vol_recebido\n",
              "38          39        C          3766\n",
              "28          29        A          2870\n",
              "14          15        C          6406\n",
              "42          43        A          2927\n",
              "7            8        B          1500"
            ],
            "text/html": [
              "\n",
              "  <div id=\"df-ac687e79-bb90-435f-b801-73094072711b\" class=\"colab-df-container\">\n",
              "    <div>\n",
              "<style scoped>\n",
              "    .dataframe tbody tr th:only-of-type {\n",
              "        vertical-align: middle;\n",
              "    }\n",
              "\n",
              "    .dataframe tbody tr th {\n",
              "        vertical-align: top;\n",
              "    }\n",
              "\n",
              "    .dataframe thead th {\n",
              "        text-align: right;\n",
              "    }\n",
              "</style>\n",
              "<table border=\"1\" class=\"dataframe\">\n",
              "  <thead>\n",
              "    <tr style=\"text-align: right;\">\n",
              "      <th></th>\n",
              "      <th>id_cliente</th>\n",
              "      <th>segmento</th>\n",
              "      <th>vol_recebido</th>\n",
              "    </tr>\n",
              "  </thead>\n",
              "  <tbody>\n",
              "    <tr>\n",
              "      <th>38</th>\n",
              "      <td>39</td>\n",
              "      <td>C</td>\n",
              "      <td>3766</td>\n",
              "    </tr>\n",
              "    <tr>\n",
              "      <th>28</th>\n",
              "      <td>29</td>\n",
              "      <td>A</td>\n",
              "      <td>2870</td>\n",
              "    </tr>\n",
              "    <tr>\n",
              "      <th>14</th>\n",
              "      <td>15</td>\n",
              "      <td>C</td>\n",
              "      <td>6406</td>\n",
              "    </tr>\n",
              "    <tr>\n",
              "      <th>42</th>\n",
              "      <td>43</td>\n",
              "      <td>A</td>\n",
              "      <td>2927</td>\n",
              "    </tr>\n",
              "    <tr>\n",
              "      <th>7</th>\n",
              "      <td>8</td>\n",
              "      <td>B</td>\n",
              "      <td>1500</td>\n",
              "    </tr>\n",
              "  </tbody>\n",
              "</table>\n",
              "</div>\n",
              "    <div class=\"colab-df-buttons\">\n",
              "\n",
              "  <div class=\"colab-df-container\">\n",
              "    <button class=\"colab-df-convert\" onclick=\"convertToInteractive('df-ac687e79-bb90-435f-b801-73094072711b')\"\n",
              "            title=\"Convert this dataframe to an interactive table.\"\n",
              "            style=\"display:none;\">\n",
              "\n",
              "  <svg xmlns=\"http://www.w3.org/2000/svg\" height=\"24px\" viewBox=\"0 -960 960 960\">\n",
              "    <path d=\"M120-120v-720h720v720H120Zm60-500h600v-160H180v160Zm220 220h160v-160H400v160Zm0 220h160v-160H400v160ZM180-400h160v-160H180v160Zm440 0h160v-160H620v160ZM180-180h160v-160H180v160Zm440 0h160v-160H620v160Z\"/>\n",
              "  </svg>\n",
              "    </button>\n",
              "\n",
              "  <style>\n",
              "    .colab-df-container {\n",
              "      display:flex;\n",
              "      gap: 12px;\n",
              "    }\n",
              "\n",
              "    .colab-df-convert {\n",
              "      background-color: #E8F0FE;\n",
              "      border: none;\n",
              "      border-radius: 50%;\n",
              "      cursor: pointer;\n",
              "      display: none;\n",
              "      fill: #1967D2;\n",
              "      height: 32px;\n",
              "      padding: 0 0 0 0;\n",
              "      width: 32px;\n",
              "    }\n",
              "\n",
              "    .colab-df-convert:hover {\n",
              "      background-color: #E2EBFA;\n",
              "      box-shadow: 0px 1px 2px rgba(60, 64, 67, 0.3), 0px 1px 3px 1px rgba(60, 64, 67, 0.15);\n",
              "      fill: #174EA6;\n",
              "    }\n",
              "\n",
              "    .colab-df-buttons div {\n",
              "      margin-bottom: 4px;\n",
              "    }\n",
              "\n",
              "    [theme=dark] .colab-df-convert {\n",
              "      background-color: #3B4455;\n",
              "      fill: #D2E3FC;\n",
              "    }\n",
              "\n",
              "    [theme=dark] .colab-df-convert:hover {\n",
              "      background-color: #434B5C;\n",
              "      box-shadow: 0px 1px 3px 1px rgba(0, 0, 0, 0.15);\n",
              "      filter: drop-shadow(0px 1px 2px rgba(0, 0, 0, 0.3));\n",
              "      fill: #FFFFFF;\n",
              "    }\n",
              "  </style>\n",
              "\n",
              "    <script>\n",
              "      const buttonEl =\n",
              "        document.querySelector('#df-ac687e79-bb90-435f-b801-73094072711b button.colab-df-convert');\n",
              "      buttonEl.style.display =\n",
              "        google.colab.kernel.accessAllowed ? 'block' : 'none';\n",
              "\n",
              "      async function convertToInteractive(key) {\n",
              "        const element = document.querySelector('#df-ac687e79-bb90-435f-b801-73094072711b');\n",
              "        const dataTable =\n",
              "          await google.colab.kernel.invokeFunction('convertToInteractive',\n",
              "                                                    [key], {});\n",
              "        if (!dataTable) return;\n",
              "\n",
              "        const docLinkHtml = 'Like what you see? Visit the ' +\n",
              "          '<a target=\"_blank\" href=https://colab.research.google.com/notebooks/data_table.ipynb>data table notebook</a>'\n",
              "          + ' to learn more about interactive tables.';\n",
              "        element.innerHTML = '';\n",
              "        dataTable['output_type'] = 'display_data';\n",
              "        await google.colab.output.renderOutput(dataTable, element);\n",
              "        const docLink = document.createElement('div');\n",
              "        docLink.innerHTML = docLinkHtml;\n",
              "        element.appendChild(docLink);\n",
              "      }\n",
              "    </script>\n",
              "  </div>\n",
              "\n",
              "\n",
              "<div id=\"df-fd0b860e-30e9-49cb-af0d-6fd302223323\">\n",
              "  <button class=\"colab-df-quickchart\" onclick=\"quickchart('df-fd0b860e-30e9-49cb-af0d-6fd302223323')\"\n",
              "            title=\"Suggest charts\"\n",
              "            style=\"display:none;\">\n",
              "\n",
              "<svg xmlns=\"http://www.w3.org/2000/svg\" height=\"24px\"viewBox=\"0 0 24 24\"\n",
              "     width=\"24px\">\n",
              "    <g>\n",
              "        <path d=\"M19 3H5c-1.1 0-2 .9-2 2v14c0 1.1.9 2 2 2h14c1.1 0 2-.9 2-2V5c0-1.1-.9-2-2-2zM9 17H7v-7h2v7zm4 0h-2V7h2v10zm4 0h-2v-4h2v4z\"/>\n",
              "    </g>\n",
              "</svg>\n",
              "  </button>\n",
              "\n",
              "<style>\n",
              "  .colab-df-quickchart {\n",
              "      --bg-color: #E8F0FE;\n",
              "      --fill-color: #1967D2;\n",
              "      --hover-bg-color: #E2EBFA;\n",
              "      --hover-fill-color: #174EA6;\n",
              "      --disabled-fill-color: #AAA;\n",
              "      --disabled-bg-color: #DDD;\n",
              "  }\n",
              "\n",
              "  [theme=dark] .colab-df-quickchart {\n",
              "      --bg-color: #3B4455;\n",
              "      --fill-color: #D2E3FC;\n",
              "      --hover-bg-color: #434B5C;\n",
              "      --hover-fill-color: #FFFFFF;\n",
              "      --disabled-bg-color: #3B4455;\n",
              "      --disabled-fill-color: #666;\n",
              "  }\n",
              "\n",
              "  .colab-df-quickchart {\n",
              "    background-color: var(--bg-color);\n",
              "    border: none;\n",
              "    border-radius: 50%;\n",
              "    cursor: pointer;\n",
              "    display: none;\n",
              "    fill: var(--fill-color);\n",
              "    height: 32px;\n",
              "    padding: 0;\n",
              "    width: 32px;\n",
              "  }\n",
              "\n",
              "  .colab-df-quickchart:hover {\n",
              "    background-color: var(--hover-bg-color);\n",
              "    box-shadow: 0 1px 2px rgba(60, 64, 67, 0.3), 0 1px 3px 1px rgba(60, 64, 67, 0.15);\n",
              "    fill: var(--button-hover-fill-color);\n",
              "  }\n",
              "\n",
              "  .colab-df-quickchart-complete:disabled,\n",
              "  .colab-df-quickchart-complete:disabled:hover {\n",
              "    background-color: var(--disabled-bg-color);\n",
              "    fill: var(--disabled-fill-color);\n",
              "    box-shadow: none;\n",
              "  }\n",
              "\n",
              "  .colab-df-spinner {\n",
              "    border: 2px solid var(--fill-color);\n",
              "    border-color: transparent;\n",
              "    border-bottom-color: var(--fill-color);\n",
              "    animation:\n",
              "      spin 1s steps(1) infinite;\n",
              "  }\n",
              "\n",
              "  @keyframes spin {\n",
              "    0% {\n",
              "      border-color: transparent;\n",
              "      border-bottom-color: var(--fill-color);\n",
              "      border-left-color: var(--fill-color);\n",
              "    }\n",
              "    20% {\n",
              "      border-color: transparent;\n",
              "      border-left-color: var(--fill-color);\n",
              "      border-top-color: var(--fill-color);\n",
              "    }\n",
              "    30% {\n",
              "      border-color: transparent;\n",
              "      border-left-color: var(--fill-color);\n",
              "      border-top-color: var(--fill-color);\n",
              "      border-right-color: var(--fill-color);\n",
              "    }\n",
              "    40% {\n",
              "      border-color: transparent;\n",
              "      border-right-color: var(--fill-color);\n",
              "      border-top-color: var(--fill-color);\n",
              "    }\n",
              "    60% {\n",
              "      border-color: transparent;\n",
              "      border-right-color: var(--fill-color);\n",
              "    }\n",
              "    80% {\n",
              "      border-color: transparent;\n",
              "      border-right-color: var(--fill-color);\n",
              "      border-bottom-color: var(--fill-color);\n",
              "    }\n",
              "    90% {\n",
              "      border-color: transparent;\n",
              "      border-bottom-color: var(--fill-color);\n",
              "    }\n",
              "  }\n",
              "</style>\n",
              "\n",
              "  <script>\n",
              "    async function quickchart(key) {\n",
              "      const quickchartButtonEl =\n",
              "        document.querySelector('#' + key + ' button');\n",
              "      quickchartButtonEl.disabled = true;  // To prevent multiple clicks.\n",
              "      quickchartButtonEl.classList.add('colab-df-spinner');\n",
              "      try {\n",
              "        const charts = await google.colab.kernel.invokeFunction(\n",
              "            'suggestCharts', [key], {});\n",
              "      } catch (error) {\n",
              "        console.error('Error during call to suggestCharts:', error);\n",
              "      }\n",
              "      quickchartButtonEl.classList.remove('colab-df-spinner');\n",
              "      quickchartButtonEl.classList.add('colab-df-quickchart-complete');\n",
              "    }\n",
              "    (() => {\n",
              "      let quickchartButtonEl =\n",
              "        document.querySelector('#df-fd0b860e-30e9-49cb-af0d-6fd302223323 button');\n",
              "      quickchartButtonEl.style.display =\n",
              "        google.colab.kernel.accessAllowed ? 'block' : 'none';\n",
              "    })();\n",
              "  </script>\n",
              "</div>\n",
              "\n",
              "    </div>\n",
              "  </div>\n"
            ],
            "application/vnd.google.colaboratory.intrinsic+json": {
              "type": "dataframe",
              "summary": "{\n  \"name\": \"data\",\n  \"rows\": 5,\n  \"fields\": [\n    {\n      \"column\": \"id_cliente\",\n      \"properties\": {\n        \"dtype\": \"number\",\n        \"std\": 15,\n        \"min\": 8,\n        \"max\": 43,\n        \"num_unique_values\": 5,\n        \"samples\": [\n          29,\n          8,\n          15\n        ],\n        \"semantic_type\": \"\",\n        \"description\": \"\"\n      }\n    },\n    {\n      \"column\": \"segmento\",\n      \"properties\": {\n        \"dtype\": \"string\",\n        \"num_unique_values\": 3,\n        \"samples\": [\n          \"C\",\n          \"A\",\n          \"B\"\n        ],\n        \"semantic_type\": \"\",\n        \"description\": \"\"\n      }\n    },\n    {\n      \"column\": \"vol_recebido\",\n      \"properties\": {\n        \"dtype\": \"number\",\n        \"std\": 1819,\n        \"min\": 1500,\n        \"max\": 6406,\n        \"num_unique_values\": 5,\n        \"samples\": [\n          2870,\n          1500,\n          6406\n        ],\n        \"semantic_type\": \"\",\n        \"description\": \"\"\n      }\n    }\n  ]\n}"
            }
          },
          "metadata": {},
          "execution_count": 24
        }
      ]
    },
    {
      "cell_type": "code",
      "source": [
        "# Import Numpy\n",
        "import numpy as np\n",
        "\n",
        "# Configura semente para reprodutibilidade do experimento\n",
        "np.random.seed(42)\n",
        "\n",
        "# Amostragem sem reposição\n",
        "data.sample(5, replace=False)"
      ],
      "metadata": {
        "colab": {
          "base_uri": "https://localhost:8080/",
          "height": 206
        },
        "id": "pguXHHkgEb-h",
        "outputId": "3df39bf8-48ee-4f8b-a3f5-415b352ba6cf"
      },
      "execution_count": null,
      "outputs": [
        {
          "output_type": "execute_result",
          "data": {
            "text/plain": [
              "    id_cliente segmento  vol_recebido\n",
              "13          14        C          3618\n",
              "39          40        B          8452\n",
              "30          31        B          4122\n",
              "45          46        B          3363\n",
              "17          18        A          5567"
            ],
            "text/html": [
              "\n",
              "  <div id=\"df-98b04f9d-d388-4eca-864f-5539e7b963c3\" class=\"colab-df-container\">\n",
              "    <div>\n",
              "<style scoped>\n",
              "    .dataframe tbody tr th:only-of-type {\n",
              "        vertical-align: middle;\n",
              "    }\n",
              "\n",
              "    .dataframe tbody tr th {\n",
              "        vertical-align: top;\n",
              "    }\n",
              "\n",
              "    .dataframe thead th {\n",
              "        text-align: right;\n",
              "    }\n",
              "</style>\n",
              "<table border=\"1\" class=\"dataframe\">\n",
              "  <thead>\n",
              "    <tr style=\"text-align: right;\">\n",
              "      <th></th>\n",
              "      <th>id_cliente</th>\n",
              "      <th>segmento</th>\n",
              "      <th>vol_recebido</th>\n",
              "    </tr>\n",
              "  </thead>\n",
              "  <tbody>\n",
              "    <tr>\n",
              "      <th>13</th>\n",
              "      <td>14</td>\n",
              "      <td>C</td>\n",
              "      <td>3618</td>\n",
              "    </tr>\n",
              "    <tr>\n",
              "      <th>39</th>\n",
              "      <td>40</td>\n",
              "      <td>B</td>\n",
              "      <td>8452</td>\n",
              "    </tr>\n",
              "    <tr>\n",
              "      <th>30</th>\n",
              "      <td>31</td>\n",
              "      <td>B</td>\n",
              "      <td>4122</td>\n",
              "    </tr>\n",
              "    <tr>\n",
              "      <th>45</th>\n",
              "      <td>46</td>\n",
              "      <td>B</td>\n",
              "      <td>3363</td>\n",
              "    </tr>\n",
              "    <tr>\n",
              "      <th>17</th>\n",
              "      <td>18</td>\n",
              "      <td>A</td>\n",
              "      <td>5567</td>\n",
              "    </tr>\n",
              "  </tbody>\n",
              "</table>\n",
              "</div>\n",
              "    <div class=\"colab-df-buttons\">\n",
              "\n",
              "  <div class=\"colab-df-container\">\n",
              "    <button class=\"colab-df-convert\" onclick=\"convertToInteractive('df-98b04f9d-d388-4eca-864f-5539e7b963c3')\"\n",
              "            title=\"Convert this dataframe to an interactive table.\"\n",
              "            style=\"display:none;\">\n",
              "\n",
              "  <svg xmlns=\"http://www.w3.org/2000/svg\" height=\"24px\" viewBox=\"0 -960 960 960\">\n",
              "    <path d=\"M120-120v-720h720v720H120Zm60-500h600v-160H180v160Zm220 220h160v-160H400v160Zm0 220h160v-160H400v160ZM180-400h160v-160H180v160Zm440 0h160v-160H620v160ZM180-180h160v-160H180v160Zm440 0h160v-160H620v160Z\"/>\n",
              "  </svg>\n",
              "    </button>\n",
              "\n",
              "  <style>\n",
              "    .colab-df-container {\n",
              "      display:flex;\n",
              "      gap: 12px;\n",
              "    }\n",
              "\n",
              "    .colab-df-convert {\n",
              "      background-color: #E8F0FE;\n",
              "      border: none;\n",
              "      border-radius: 50%;\n",
              "      cursor: pointer;\n",
              "      display: none;\n",
              "      fill: #1967D2;\n",
              "      height: 32px;\n",
              "      padding: 0 0 0 0;\n",
              "      width: 32px;\n",
              "    }\n",
              "\n",
              "    .colab-df-convert:hover {\n",
              "      background-color: #E2EBFA;\n",
              "      box-shadow: 0px 1px 2px rgba(60, 64, 67, 0.3), 0px 1px 3px 1px rgba(60, 64, 67, 0.15);\n",
              "      fill: #174EA6;\n",
              "    }\n",
              "\n",
              "    .colab-df-buttons div {\n",
              "      margin-bottom: 4px;\n",
              "    }\n",
              "\n",
              "    [theme=dark] .colab-df-convert {\n",
              "      background-color: #3B4455;\n",
              "      fill: #D2E3FC;\n",
              "    }\n",
              "\n",
              "    [theme=dark] .colab-df-convert:hover {\n",
              "      background-color: #434B5C;\n",
              "      box-shadow: 0px 1px 3px 1px rgba(0, 0, 0, 0.15);\n",
              "      filter: drop-shadow(0px 1px 2px rgba(0, 0, 0, 0.3));\n",
              "      fill: #FFFFFF;\n",
              "    }\n",
              "  </style>\n",
              "\n",
              "    <script>\n",
              "      const buttonEl =\n",
              "        document.querySelector('#df-98b04f9d-d388-4eca-864f-5539e7b963c3 button.colab-df-convert');\n",
              "      buttonEl.style.display =\n",
              "        google.colab.kernel.accessAllowed ? 'block' : 'none';\n",
              "\n",
              "      async function convertToInteractive(key) {\n",
              "        const element = document.querySelector('#df-98b04f9d-d388-4eca-864f-5539e7b963c3');\n",
              "        const dataTable =\n",
              "          await google.colab.kernel.invokeFunction('convertToInteractive',\n",
              "                                                    [key], {});\n",
              "        if (!dataTable) return;\n",
              "\n",
              "        const docLinkHtml = 'Like what you see? Visit the ' +\n",
              "          '<a target=\"_blank\" href=https://colab.research.google.com/notebooks/data_table.ipynb>data table notebook</a>'\n",
              "          + ' to learn more about interactive tables.';\n",
              "        element.innerHTML = '';\n",
              "        dataTable['output_type'] = 'display_data';\n",
              "        await google.colab.output.renderOutput(dataTable, element);\n",
              "        const docLink = document.createElement('div');\n",
              "        docLink.innerHTML = docLinkHtml;\n",
              "        element.appendChild(docLink);\n",
              "      }\n",
              "    </script>\n",
              "  </div>\n",
              "\n",
              "\n",
              "<div id=\"df-d4d2b2ae-03dd-4ac3-b345-680eba2c8b92\">\n",
              "  <button class=\"colab-df-quickchart\" onclick=\"quickchart('df-d4d2b2ae-03dd-4ac3-b345-680eba2c8b92')\"\n",
              "            title=\"Suggest charts\"\n",
              "            style=\"display:none;\">\n",
              "\n",
              "<svg xmlns=\"http://www.w3.org/2000/svg\" height=\"24px\"viewBox=\"0 0 24 24\"\n",
              "     width=\"24px\">\n",
              "    <g>\n",
              "        <path d=\"M19 3H5c-1.1 0-2 .9-2 2v14c0 1.1.9 2 2 2h14c1.1 0 2-.9 2-2V5c0-1.1-.9-2-2-2zM9 17H7v-7h2v7zm4 0h-2V7h2v10zm4 0h-2v-4h2v4z\"/>\n",
              "    </g>\n",
              "</svg>\n",
              "  </button>\n",
              "\n",
              "<style>\n",
              "  .colab-df-quickchart {\n",
              "      --bg-color: #E8F0FE;\n",
              "      --fill-color: #1967D2;\n",
              "      --hover-bg-color: #E2EBFA;\n",
              "      --hover-fill-color: #174EA6;\n",
              "      --disabled-fill-color: #AAA;\n",
              "      --disabled-bg-color: #DDD;\n",
              "  }\n",
              "\n",
              "  [theme=dark] .colab-df-quickchart {\n",
              "      --bg-color: #3B4455;\n",
              "      --fill-color: #D2E3FC;\n",
              "      --hover-bg-color: #434B5C;\n",
              "      --hover-fill-color: #FFFFFF;\n",
              "      --disabled-bg-color: #3B4455;\n",
              "      --disabled-fill-color: #666;\n",
              "  }\n",
              "\n",
              "  .colab-df-quickchart {\n",
              "    background-color: var(--bg-color);\n",
              "    border: none;\n",
              "    border-radius: 50%;\n",
              "    cursor: pointer;\n",
              "    display: none;\n",
              "    fill: var(--fill-color);\n",
              "    height: 32px;\n",
              "    padding: 0;\n",
              "    width: 32px;\n",
              "  }\n",
              "\n",
              "  .colab-df-quickchart:hover {\n",
              "    background-color: var(--hover-bg-color);\n",
              "    box-shadow: 0 1px 2px rgba(60, 64, 67, 0.3), 0 1px 3px 1px rgba(60, 64, 67, 0.15);\n",
              "    fill: var(--button-hover-fill-color);\n",
              "  }\n",
              "\n",
              "  .colab-df-quickchart-complete:disabled,\n",
              "  .colab-df-quickchart-complete:disabled:hover {\n",
              "    background-color: var(--disabled-bg-color);\n",
              "    fill: var(--disabled-fill-color);\n",
              "    box-shadow: none;\n",
              "  }\n",
              "\n",
              "  .colab-df-spinner {\n",
              "    border: 2px solid var(--fill-color);\n",
              "    border-color: transparent;\n",
              "    border-bottom-color: var(--fill-color);\n",
              "    animation:\n",
              "      spin 1s steps(1) infinite;\n",
              "  }\n",
              "\n",
              "  @keyframes spin {\n",
              "    0% {\n",
              "      border-color: transparent;\n",
              "      border-bottom-color: var(--fill-color);\n",
              "      border-left-color: var(--fill-color);\n",
              "    }\n",
              "    20% {\n",
              "      border-color: transparent;\n",
              "      border-left-color: var(--fill-color);\n",
              "      border-top-color: var(--fill-color);\n",
              "    }\n",
              "    30% {\n",
              "      border-color: transparent;\n",
              "      border-left-color: var(--fill-color);\n",
              "      border-top-color: var(--fill-color);\n",
              "      border-right-color: var(--fill-color);\n",
              "    }\n",
              "    40% {\n",
              "      border-color: transparent;\n",
              "      border-right-color: var(--fill-color);\n",
              "      border-top-color: var(--fill-color);\n",
              "    }\n",
              "    60% {\n",
              "      border-color: transparent;\n",
              "      border-right-color: var(--fill-color);\n",
              "    }\n",
              "    80% {\n",
              "      border-color: transparent;\n",
              "      border-right-color: var(--fill-color);\n",
              "      border-bottom-color: var(--fill-color);\n",
              "    }\n",
              "    90% {\n",
              "      border-color: transparent;\n",
              "      border-bottom-color: var(--fill-color);\n",
              "    }\n",
              "  }\n",
              "</style>\n",
              "\n",
              "  <script>\n",
              "    async function quickchart(key) {\n",
              "      const quickchartButtonEl =\n",
              "        document.querySelector('#' + key + ' button');\n",
              "      quickchartButtonEl.disabled = true;  // To prevent multiple clicks.\n",
              "      quickchartButtonEl.classList.add('colab-df-spinner');\n",
              "      try {\n",
              "        const charts = await google.colab.kernel.invokeFunction(\n",
              "            'suggestCharts', [key], {});\n",
              "      } catch (error) {\n",
              "        console.error('Error during call to suggestCharts:', error);\n",
              "      }\n",
              "      quickchartButtonEl.classList.remove('colab-df-spinner');\n",
              "      quickchartButtonEl.classList.add('colab-df-quickchart-complete');\n",
              "    }\n",
              "    (() => {\n",
              "      let quickchartButtonEl =\n",
              "        document.querySelector('#df-d4d2b2ae-03dd-4ac3-b345-680eba2c8b92 button');\n",
              "      quickchartButtonEl.style.display =\n",
              "        google.colab.kernel.accessAllowed ? 'block' : 'none';\n",
              "    })();\n",
              "  </script>\n",
              "</div>\n",
              "\n",
              "    </div>\n",
              "  </div>\n"
            ],
            "application/vnd.google.colaboratory.intrinsic+json": {
              "type": "dataframe",
              "summary": "{\n  \"name\": \"data\",\n  \"rows\": 5,\n  \"fields\": [\n    {\n      \"column\": \"id_cliente\",\n      \"properties\": {\n        \"dtype\": \"number\",\n        \"std\": 13,\n        \"min\": 14,\n        \"max\": 46,\n        \"num_unique_values\": 5,\n        \"samples\": [\n          40,\n          18,\n          31\n        ],\n        \"semantic_type\": \"\",\n        \"description\": \"\"\n      }\n    },\n    {\n      \"column\": \"segmento\",\n      \"properties\": {\n        \"dtype\": \"string\",\n        \"num_unique_values\": 3,\n        \"samples\": [\n          \"C\",\n          \"B\",\n          \"A\"\n        ],\n        \"semantic_type\": \"\",\n        \"description\": \"\"\n      }\n    },\n    {\n      \"column\": \"vol_recebido\",\n      \"properties\": {\n        \"dtype\": \"number\",\n        \"std\": 2097,\n        \"min\": 3363,\n        \"max\": 8452,\n        \"num_unique_values\": 5,\n        \"samples\": [\n          8452,\n          5567,\n          4122\n        ],\n        \"semantic_type\": \"\",\n        \"description\": \"\"\n      }\n    }\n  ]\n}"
            }
          },
          "metadata": {},
          "execution_count": 30
        }
      ]
    },
    {
      "cell_type": "markdown",
      "source": [
        "### **01. Distribuição Binomial**"
      ],
      "metadata": {
        "id": "-LgBR8w70iGr"
      }
    },
    {
      "cell_type": "markdown",
      "source": [
        "> **Situação Problema:**\n",
        ">\n",
        "> Suponha que Amir trabalhe normalmente em 3 vendas por semana e que, no geral, ele ganhe 30% dos negócios em que trabalha. Cada negócio tem um resultado binário: _vendas_ ou _não venda_, portanto, você pode modelar os negócios de vendas dele com uma _distribuição binomial_. Neste exercício, você ajudará Amir a simular um ano de seus negócios (venda/não venda) para que ele possa entender melhor seu desempenho."
      ],
      "metadata": {
        "id": "4BMlHw280mxI"
      }
    },
    {
      "cell_type": "markdown",
      "source": [
        "Primeiramente, vamos importar as bibliotecas que nos permitem simular a situação:"
      ],
      "metadata": {
        "id": "bmU9_S_C1O_F"
      }
    },
    {
      "cell_type": "code",
      "source": [
        "# Import numpy\n",
        "import numpy as np\n",
        "# Import binom para aplicação da distribuição binomial\n",
        "from scipy.stats import binom\n",
        "# Import pandas\n",
        "import pandas as pd"
      ],
      "metadata": {
        "id": "IUjX2Zqt1xtx"
      },
      "execution_count": null,
      "outputs": []
    },
    {
      "cell_type": "markdown",
      "source": [
        "Em seguida, iremos definir os parâmetros da dsitribuição binomial com base no enunciado da situação problema:"
      ],
      "metadata": {
        "id": "uiP-IlWq2B8G"
      }
    },
    {
      "cell_type": "code",
      "source": [
        "# Definindo número de tentativas (trails)\n",
        "n = 3\n",
        "# Definindo probabilidade de sucesso em cada tentativa\n",
        "p = 0.3\n",
        "# Definindo número de experimentos (isto é, número de vezes que as mesmas tentativas serão feitas)\n",
        "size = 52"
      ],
      "metadata": {
        "id": "8xWzmF5D2MkW"
      },
      "execution_count": null,
      "outputs": []
    },
    {
      "cell_type": "markdown",
      "source": [
        "Note que as especificações dos parâmetros foram feitas a partir do enunciado e \"traduzidos\" da seguinte forma:\n",
        "\n",
        "* `n = 3`: Especifica o número de negócios que Amir tem por semana, isto é, o número de tentativas/oportunidades que ele tem de realizar uma venda (ou não).\n",
        "* `p = 0.3`: Especifica a taxa/probabilidade de sucesso de Amir em cada venda. Aqui, estamos extraindo diretamente do enunciado, porém possivelmente isso foi obtido a partir de dados históricos das vendas de Amir e obtido uma probabilidade média por venda.\n",
        "* `size = 52`: Especifica o número de vezes que as N tentativas seram repetidas. Podemos pensar que são 52 experimentos que serão reralizados (no período de 1 ano, a qual é o interesse do problema) e a cada experimentos, Amir realiza 3 tentativas."
      ],
      "metadata": {
        "id": "XSiwQdhd24Pv"
      }
    },
    {
      "cell_type": "markdown",
      "source": [
        "Após definir os parâmetros, vamos simular o número de sucesso (vendas) de Amir no período de 1 ano:"
      ],
      "metadata": {
        "id": "KGmoRJd04QfY"
      }
    },
    {
      "cell_type": "code",
      "source": [
        "# Definindo semente aleatória para reprodutibilidade da simulação\n",
        "np.random.seed(42)\n",
        "\n",
        "# Gerando simulação do número de sucessos (vendas) em 52 semanas (experimentos)\n",
        "simulacao = binom.rvs(n=n, p=p, size=size)\n",
        "\n",
        "# Criando dataframe para melhor visualização\n",
        "df_simulacao = pd.DataFrame(data=simulacao, index=[f'Semana {i}' for i in range(1, 53)], columns=['Qtde Vendas'])\n",
        "\n",
        "# Printando simulação\n",
        "print(f'Simulação da quantidade de vendas por semana, ao longo de 52 semanas: \\n')\n",
        "display(df_simulacao.T)"
      ],
      "metadata": {
        "colab": {
          "base_uri": "https://localhost:8080/",
          "height": 179
        },
        "id": "WZQSEmLH4cGp",
        "outputId": "6045347e-533e-476b-ca9e-a3b10afa15fb"
      },
      "execution_count": null,
      "outputs": [
        {
          "output_type": "stream",
          "name": "stdout",
          "text": [
            "Simulação da quantidade de vendas por semana, ao longo de 52 semanas: \n",
            "\n"
          ]
        },
        {
          "output_type": "display_data",
          "data": {
            "text/plain": [
              "             Semana 1  Semana 2  Semana 3  Semana 4  Semana 5  Semana 6  \\\n",
              "Qtde Vendas         1         2         1         1         0         0   \n",
              "\n",
              "             Semana 7  Semana 8  Semana 9  Semana 10  ...  Semana 43  \\\n",
              "Qtde Vendas         0         2         1          1  ...          0   \n",
              "\n",
              "             Semana 44  Semana 45  Semana 46  Semana 47  Semana 48  Semana 49  \\\n",
              "Qtde Vendas          2          0          1          0          1          1   \n",
              "\n",
              "             Semana 50  Semana 51  Semana 52  \n",
              "Qtde Vendas          0          2          1  \n",
              "\n",
              "[1 rows x 52 columns]"
            ],
            "text/html": [
              "\n",
              "  <div id=\"df-61009255-b9fb-4c4b-809d-6bfc357a9403\" class=\"colab-df-container\">\n",
              "    <div>\n",
              "<style scoped>\n",
              "    .dataframe tbody tr th:only-of-type {\n",
              "        vertical-align: middle;\n",
              "    }\n",
              "\n",
              "    .dataframe tbody tr th {\n",
              "        vertical-align: top;\n",
              "    }\n",
              "\n",
              "    .dataframe thead th {\n",
              "        text-align: right;\n",
              "    }\n",
              "</style>\n",
              "<table border=\"1\" class=\"dataframe\">\n",
              "  <thead>\n",
              "    <tr style=\"text-align: right;\">\n",
              "      <th></th>\n",
              "      <th>Semana 1</th>\n",
              "      <th>Semana 2</th>\n",
              "      <th>Semana 3</th>\n",
              "      <th>Semana 4</th>\n",
              "      <th>Semana 5</th>\n",
              "      <th>Semana 6</th>\n",
              "      <th>Semana 7</th>\n",
              "      <th>Semana 8</th>\n",
              "      <th>Semana 9</th>\n",
              "      <th>Semana 10</th>\n",
              "      <th>...</th>\n",
              "      <th>Semana 43</th>\n",
              "      <th>Semana 44</th>\n",
              "      <th>Semana 45</th>\n",
              "      <th>Semana 46</th>\n",
              "      <th>Semana 47</th>\n",
              "      <th>Semana 48</th>\n",
              "      <th>Semana 49</th>\n",
              "      <th>Semana 50</th>\n",
              "      <th>Semana 51</th>\n",
              "      <th>Semana 52</th>\n",
              "    </tr>\n",
              "  </thead>\n",
              "  <tbody>\n",
              "    <tr>\n",
              "      <th>Qtde Vendas</th>\n",
              "      <td>1</td>\n",
              "      <td>2</td>\n",
              "      <td>1</td>\n",
              "      <td>1</td>\n",
              "      <td>0</td>\n",
              "      <td>0</td>\n",
              "      <td>0</td>\n",
              "      <td>2</td>\n",
              "      <td>1</td>\n",
              "      <td>1</td>\n",
              "      <td>...</td>\n",
              "      <td>0</td>\n",
              "      <td>2</td>\n",
              "      <td>0</td>\n",
              "      <td>1</td>\n",
              "      <td>0</td>\n",
              "      <td>1</td>\n",
              "      <td>1</td>\n",
              "      <td>0</td>\n",
              "      <td>2</td>\n",
              "      <td>1</td>\n",
              "    </tr>\n",
              "  </tbody>\n",
              "</table>\n",
              "<p>1 rows × 52 columns</p>\n",
              "</div>\n",
              "    <div class=\"colab-df-buttons\">\n",
              "\n",
              "  <div class=\"colab-df-container\">\n",
              "    <button class=\"colab-df-convert\" onclick=\"convertToInteractive('df-61009255-b9fb-4c4b-809d-6bfc357a9403')\"\n",
              "            title=\"Convert this dataframe to an interactive table.\"\n",
              "            style=\"display:none;\">\n",
              "\n",
              "  <svg xmlns=\"http://www.w3.org/2000/svg\" height=\"24px\" viewBox=\"0 -960 960 960\">\n",
              "    <path d=\"M120-120v-720h720v720H120Zm60-500h600v-160H180v160Zm220 220h160v-160H400v160Zm0 220h160v-160H400v160ZM180-400h160v-160H180v160Zm440 0h160v-160H620v160ZM180-180h160v-160H180v160Zm440 0h160v-160H620v160Z\"/>\n",
              "  </svg>\n",
              "    </button>\n",
              "\n",
              "  <style>\n",
              "    .colab-df-container {\n",
              "      display:flex;\n",
              "      gap: 12px;\n",
              "    }\n",
              "\n",
              "    .colab-df-convert {\n",
              "      background-color: #E8F0FE;\n",
              "      border: none;\n",
              "      border-radius: 50%;\n",
              "      cursor: pointer;\n",
              "      display: none;\n",
              "      fill: #1967D2;\n",
              "      height: 32px;\n",
              "      padding: 0 0 0 0;\n",
              "      width: 32px;\n",
              "    }\n",
              "\n",
              "    .colab-df-convert:hover {\n",
              "      background-color: #E2EBFA;\n",
              "      box-shadow: 0px 1px 2px rgba(60, 64, 67, 0.3), 0px 1px 3px 1px rgba(60, 64, 67, 0.15);\n",
              "      fill: #174EA6;\n",
              "    }\n",
              "\n",
              "    .colab-df-buttons div {\n",
              "      margin-bottom: 4px;\n",
              "    }\n",
              "\n",
              "    [theme=dark] .colab-df-convert {\n",
              "      background-color: #3B4455;\n",
              "      fill: #D2E3FC;\n",
              "    }\n",
              "\n",
              "    [theme=dark] .colab-df-convert:hover {\n",
              "      background-color: #434B5C;\n",
              "      box-shadow: 0px 1px 3px 1px rgba(0, 0, 0, 0.15);\n",
              "      filter: drop-shadow(0px 1px 2px rgba(0, 0, 0, 0.3));\n",
              "      fill: #FFFFFF;\n",
              "    }\n",
              "  </style>\n",
              "\n",
              "    <script>\n",
              "      const buttonEl =\n",
              "        document.querySelector('#df-61009255-b9fb-4c4b-809d-6bfc357a9403 button.colab-df-convert');\n",
              "      buttonEl.style.display =\n",
              "        google.colab.kernel.accessAllowed ? 'block' : 'none';\n",
              "\n",
              "      async function convertToInteractive(key) {\n",
              "        const element = document.querySelector('#df-61009255-b9fb-4c4b-809d-6bfc357a9403');\n",
              "        const dataTable =\n",
              "          await google.colab.kernel.invokeFunction('convertToInteractive',\n",
              "                                                    [key], {});\n",
              "        if (!dataTable) return;\n",
              "\n",
              "        const docLinkHtml = 'Like what you see? Visit the ' +\n",
              "          '<a target=\"_blank\" href=https://colab.research.google.com/notebooks/data_table.ipynb>data table notebook</a>'\n",
              "          + ' to learn more about interactive tables.';\n",
              "        element.innerHTML = '';\n",
              "        dataTable['output_type'] = 'display_data';\n",
              "        await google.colab.output.renderOutput(dataTable, element);\n",
              "        const docLink = document.createElement('div');\n",
              "        docLink.innerHTML = docLinkHtml;\n",
              "        element.appendChild(docLink);\n",
              "      }\n",
              "    </script>\n",
              "  </div>\n",
              "\n",
              "\n",
              "    </div>\n",
              "  </div>\n"
            ],
            "application/vnd.google.colaboratory.intrinsic+json": {
              "type": "dataframe"
            }
          },
          "metadata": {}
        }
      ]
    },
    {
      "cell_type": "code",
      "source": [
        "# Calculando a média de vendas por semana\n",
        "df_simulacao.mean()"
      ],
      "metadata": {
        "colab": {
          "base_uri": "https://localhost:8080/",
          "height": 115
        },
        "id": "v8jiBugh7HLc",
        "outputId": "f98eeea2-804a-4075-c3d5-d8caa8c0dee3"
      },
      "execution_count": null,
      "outputs": [
        {
          "output_type": "execute_result",
          "data": {
            "text/plain": [
              "Qtde Vendas    0.769231\n",
              "dtype: float64"
            ],
            "text/html": [
              "<div>\n",
              "<style scoped>\n",
              "    .dataframe tbody tr th:only-of-type {\n",
              "        vertical-align: middle;\n",
              "    }\n",
              "\n",
              "    .dataframe tbody tr th {\n",
              "        vertical-align: top;\n",
              "    }\n",
              "\n",
              "    .dataframe thead th {\n",
              "        text-align: right;\n",
              "    }\n",
              "</style>\n",
              "<table border=\"1\" class=\"dataframe\">\n",
              "  <thead>\n",
              "    <tr style=\"text-align: right;\">\n",
              "      <th></th>\n",
              "      <th>0</th>\n",
              "    </tr>\n",
              "  </thead>\n",
              "  <tbody>\n",
              "    <tr>\n",
              "      <th>Qtde Vendas</th>\n",
              "      <td>0.769231</td>\n",
              "    </tr>\n",
              "  </tbody>\n",
              "</table>\n",
              "</div><br><label><b>dtype:</b> float64</label>"
            ]
          },
          "metadata": {},
          "execution_count": 27
        }
      ]
    },
    {
      "cell_type": "markdown",
      "source": [
        "Como podemos observar:\n",
        "* A simulação deixa claro que, com a taxa/probabilidade de 30% de sucesso (venda) por semana, ao longo de 1 ano, Amir realiza menos de uma venda por semana\n",
        "* Para ser mais preciso, nessas condições, Amir realiza 0,76 vendas por semana (ao longo de um ano)\n",
        "* No caso onde Amir deseja aumentar seu número de vendas, existem duas opções: melhorar seu desempenho (aumentar taxa de sucesso) ou realizar mais tentativas na semana (número de negócios o qual partipa na semana). Pois aumentar o número de semana não é uma opção, já que é fixo"
      ],
      "metadata": {
        "id": "iaPvRktx7DWf"
      }
    },
    {
      "cell_type": "markdown",
      "source": [
        "> Agora, suponha que estamos interessado em saber a probabilidade de Amir fechar um determinado número de negócios por semana, ainda permanecendo com a mesma taxa/probabilidade de sucesso (30%)"
      ],
      "metadata": {
        "id": "pIB6M3wDK0b_"
      }
    },
    {
      "cell_type": "markdown",
      "source": [
        "Para calcular a **exata** probabilidade de Amir realizar 3 vendas em 3 tentativas, dado a taxa de sucesso já conhecida é:"
      ],
      "metadata": {
        "id": "MzAbLurLLIH3"
      }
    },
    {
      "cell_type": "code",
      "source": [
        "# Definindo número de tentativas (trails)\n",
        "n = 3\n",
        "# Definindo probabilidade de sucesso em cada tentativa\n",
        "p = 0.3\n",
        "# Definindo número de sucessos (k deve ser menor ou igual a n)\n",
        "k = 3"
      ],
      "metadata": {
        "id": "Dj0INg9UOjmK"
      },
      "execution_count": null,
      "outputs": []
    },
    {
      "cell_type": "code",
      "source": [
        "# Clalculando a probailidade de exatos k sucessos em n tentativas, dado a probabilidade de sucesso p\n",
        "prob_3_vendas = binom.pmf(k=k, n=n, p=p)\n",
        "\n",
        "# Printa o resultado\n",
        "print(f'Probabilidade de realizar exatas 3 vendas em 3 tentativas é: {prob_3_vendas}')"
      ],
      "metadata": {
        "colab": {
          "base_uri": "https://localhost:8080/"
        },
        "id": "5bkbSfEFKTyO",
        "outputId": "24b20187-bab9-492f-a0b9-45fa03016054"
      },
      "execution_count": null,
      "outputs": [
        {
          "output_type": "stream",
          "name": "stdout",
          "text": [
            "Probabilidade de realizar exatas 3 vendas em 3 tentativas é: 0.026999999999999996\n"
          ]
        }
      ]
    },
    {
      "cell_type": "markdown",
      "source": [
        "Importante notar:\n",
        "* Para calcular a **probabilidade exata** de `k` sucessos em `n` tentativas, utilizamos a Probability Mass Function (PMF)\n",
        "* A PMF é um caso especial da PDF (Probability Density Function), que é a generalização da PMF para variáveis aleatórias contínuas, enquanto a PMF se aplica apenas a variáveis aletórias discretas"
      ],
      "metadata": {
        "id": "zxrw2iiLPD82"
      }
    },
    {
      "cell_type": "markdown",
      "source": [
        "Para calcular a probabilidade de Amir realizar **até 1 venda** em 3 tentativas, dado a taxa de sucesso já conhecida, é:"
      ],
      "metadata": {
        "id": "7BYiIAdZP3BL"
      }
    },
    {
      "cell_type": "code",
      "source": [
        "# Definindo número de tentativas (trails)\n",
        "n = 3\n",
        "# Definindo probabilidade de sucesso em cada tentativa\n",
        "p = 0.3\n",
        "# Definindo número de sucessos (k deve ser menor ou igual a n)\n",
        "k = 1"
      ],
      "metadata": {
        "id": "eP5NVgj1QmTi"
      },
      "execution_count": null,
      "outputs": []
    },
    {
      "cell_type": "code",
      "source": [
        "# Clalculando a probailidade de até k sucessos em n tentativas, dado a probabilidade de sucesso p\n",
        "prob_ate_1_venda = binom.cdf(k=k, n=n, p=p)\n",
        "\n",
        "# Printa o resultado\n",
        "print(f'Probabilidade de realizar até 1 venda em 3 tentativas é: {prob_ate_1_venda}')"
      ],
      "metadata": {
        "colab": {
          "base_uri": "https://localhost:8080/"
        },
        "id": "9C_rZuDWQp5D",
        "outputId": "b8fd8df1-50cd-4fa3-e9bb-eb0b1eaba4c1"
      },
      "execution_count": null,
      "outputs": [
        {
          "output_type": "stream",
          "name": "stdout",
          "text": [
            "Probabilidade de realizar até 1 venda em 3 tentativas é: 0.784\n"
          ]
        }
      ]
    },
    {
      "cell_type": "markdown",
      "source": [
        "Importante notar:\n",
        "* Para calcular a **probabilidade de até** `k` sucessos em `n` tentativas, utilizamos a Cumulative Distribution Function (CDF), que, como o nome diz, calcula a probabilidade acumulada\n",
        "* Também é muito útili utilizar o princípio da complementariedade (`1 - probabilidad de ocorrência = probabilidade de não ocorrência`) juntamente com a CDF para obter a probabilidade de enventos, como veremos a seguir"
      ],
      "metadata": {
        "id": "XJ4XEK7HRM02"
      }
    },
    {
      "cell_type": "markdown",
      "source": [
        "De forma análoga, calcular a probabilidade de Amir realizar **mais que 1 vendas** em 3 tentativas, dado a taxa de sucesso já conhecida, é:"
      ],
      "metadata": {
        "id": "Kl5DeJGjSF5S"
      }
    },
    {
      "cell_type": "code",
      "source": [
        "# Definindo número de tentativas (trails)\n",
        "n = 3\n",
        "# Definindo probabilidade de sucesso em cada tentativa\n",
        "p = 0.3\n",
        "# Definindo número de sucessos (k deve ser menor ou igual a n)\n",
        "k = 1"
      ],
      "metadata": {
        "id": "x0_WrsQ6SUl1"
      },
      "execution_count": null,
      "outputs": []
    },
    {
      "cell_type": "code",
      "source": [
        "# Clalculando a probailidade de mais que k sucessos em n tentativas, dado a probabilidade de sucesso p\n",
        "prob_mais_1_venda = 1 - binom.cdf(k=k, n=n, p=p)\n",
        "\n",
        "# Printa o resultado\n",
        "print(f'Probabilidade de realizar mais que 1 venda em 3 tentativas é: {prob_mais_1_venda}')"
      ],
      "metadata": {
        "colab": {
          "base_uri": "https://localhost:8080/"
        },
        "id": "OOO7FeceSYdS",
        "outputId": "a84906dc-5636-4b22-fba3-940602a6779a"
      },
      "execution_count": null,
      "outputs": [
        {
          "output_type": "stream",
          "name": "stdout",
          "text": [
            "Probabilidade de realizar mais que 1 venda em 3 tentativas é: 0.21599999999999997\n"
          ]
        }
      ]
    },
    {
      "cell_type": "markdown",
      "source": [
        "Importante notar:\n",
        "* Para calcular a **probabilidade de mais que** `k` sucessos em `n` tentativas, utilizamos a Cumulative Distribution Function (CDF) juntamente com o principio da complementariedade"
      ],
      "metadata": {
        "id": "3lMlZVO4SztR"
      }
    },
    {
      "cell_type": "markdown",
      "source": [
        "Por fim, podemos ainda estimar o **valor esperado (esperanaça)** de vendas que amir fará a cada semana, dado um aumento na sua taxa de sucesso (probabilidade):"
      ],
      "metadata": {
        "id": "CLlILviuaPlY"
      }
    },
    {
      "cell_type": "code",
      "source": [
        "# Define taxa de sucesso atual (probabilidade)\n",
        "p_atual = 0.3\n",
        "# Define taxa de sucesso objetivo (probabilidade)\n",
        "p_objetivo = 0.37\n",
        "# Define número de tentativas (negócios onde pode-se ocorrer venda/não venda)\n",
        "n = 3"
      ],
      "metadata": {
        "id": "_0fy_2j6aePA"
      },
      "execution_count": null,
      "outputs": []
    },
    {
      "cell_type": "code",
      "source": [
        "# Calculando o valor esperado de vendas por semana com a taxa de sucesso atual\n",
        "val_esp_atual = n * p_atual\n",
        "# Calculando o valor esperado de vendas por semana com a taxa de sucesso atual\n",
        "val_esp_objetivo = n * p_objetivo"
      ],
      "metadata": {
        "id": "rX5s0fW3a9Vd"
      },
      "execution_count": null,
      "outputs": []
    },
    {
      "cell_type": "code",
      "source": [
        "print(f'Com a taxa de sucesso atual de {p_atual}, o valor esperado de vendas por semana é: {val_esp_atual}')\n",
        "print(f'Com a taxa de sucesso atual de {p_objetivo}, o valor esperado de vendas por semana é: {val_esp_objetivo}')"
      ],
      "metadata": {
        "colab": {
          "base_uri": "https://localhost:8080/"
        },
        "id": "WubPhcRHbMlc",
        "outputId": "4a68429b-902e-4250-d75f-d7f459038c80"
      },
      "execution_count": null,
      "outputs": [
        {
          "output_type": "stream",
          "name": "stdout",
          "text": [
            "Com a taxa de sucesso atual de 0.3, o valor esperado de vendas por semana é: 0.8999999999999999\n",
            "Com a taxa de sucesso atual de 0.37, o valor esperado de vendas por semana é: 1.1099999999999999\n"
          ]
        }
      ]
    },
    {
      "cell_type": "markdown",
      "source": [
        "Ou seja, com um aumento de 7% na sua probabilidade de venda (taxa de sucesso), Amir pode reailzar, em média: 1,1 vendas/semana"
      ],
      "metadata": {
        "id": "wZMnEpxKbZMC"
      }
    },
    {
      "cell_type": "markdown",
      "source": [
        "## **3) Mais distribuições e o Teorema do Limite Central**"
      ],
      "metadata": {
        "id": "7-dcVC6IcV4V"
      }
    },
    {
      "cell_type": "markdown",
      "source": [
        "### **Distribuição normal**"
      ],
      "metadata": {
        "id": "NCY23ddImTs7"
      }
    },
    {
      "cell_type": "markdown",
      "source": [
        "> **Principais características:**\n",
        "\n",
        "* Tem o formato característico de sino (bell curve). Por tanto, é **simétrica**: lado direito é a imagem espelhado do esquerdo\n",
        "* Assim como toda distribuição de probabilidade, a área sob a curva é igual a 1 (100% de probabilidade)\n",
        "* Existe um tipo especial de distribuição normal: distribuição normal padronizadas. Ela é caraterizada por ter média igual a 0 e desvio padrão igual a 1\n",
        "* Entretando, é possível sim a existência de distribuições normais não padronizadas (são até mais comuns). Também é possível _pradoniza-las_ a fim de utilizar as propriedades da versão especial padronizada\n",
        "* A distribuição normal obedece uma regra conhecida como _65-95-99.7_:\n",
        "  * 68% da área de uma distribuição normal está contido em 1 desvio padrão a partir da média\n",
        "  * 95% da área de uma distribuição normal está contido em 2 desvio padrão a partir da média\n",
        "  * 99,7% da área de uma distribuição normal está contido em 3 desvio padrão a partir da média\n",
        "* A curva da disribuição normal nunca atinge zero em suas extremidades, isto é, é assintótica a zero"
      ],
      "metadata": {
        "id": "Fp-HiHurcYDZ"
      }
    },
    {
      "cell_type": "markdown",
      "source": [
        "> **Situação Problema:**\n",
        ">\n",
        "> Suponha que Amir realizou uma determinada quantia de vendas em um período. Cada venda tem um valor diferente, pois ele trabalha com a venda de diferentes produtos. Avaliando a distribuição das vendas de Amir, nota-se que elas segue um padrão normal, com média 5000 dólares e desvio padrão de 2000."
      ],
      "metadata": {
        "id": "hkOZJHIBmaGf"
      }
    },
    {
      "cell_type": "markdown",
      "source": [
        "Para modelar a situação, importamos as libs necessárias e especificamos os parâmetros do problema (conforme o enunciado):"
      ],
      "metadata": {
        "id": "Z4-Xw71UpcwZ"
      }
    },
    {
      "cell_type": "code",
      "source": [
        "# Importa norm\n",
        "from scipy.stats import norm"
      ],
      "metadata": {
        "id": "f0eBXDDzo0AW"
      },
      "execution_count": null,
      "outputs": []
    },
    {
      "cell_type": "code",
      "source": [
        "# Define a média da distribuição normal\n",
        "mean_dist = 5000\n",
        "# Define o desvio padrão da distribuição normal\n",
        "std_dist = 2000"
      ],
      "metadata": {
        "id": "6g_PW3KQfb7B"
      },
      "execution_count": null,
      "outputs": []
    },
    {
      "cell_type": "markdown",
      "source": [
        "Com base na situação. Qual é a probabilidade de Amir fechar um negócio de valor inferior a US$ 7.500?\n"
      ],
      "metadata": {
        "id": "SYdRfNd7nhW2"
      }
    },
    {
      "cell_type": "code",
      "source": [
        "# Calcula a probabilidade de realizar uma venda de valor inferior ao especificado\n",
        "prob_venda_inf_7500 = norm.cdf(x=7500, loc=mean_dist, scale=std_dist)\n",
        "# Printa o resultado\n",
        "print(f'Probabilidade de realizar uma venda de valor inferior a US$ 7.500 é: {prob_venda_inf_7500}')"
      ],
      "metadata": {
        "colab": {
          "base_uri": "https://localhost:8080/"
        },
        "id": "OC8pcYJooOeX",
        "outputId": "7ce966aa-2931-46bd-b1b2-79ccdd420d2b"
      },
      "execution_count": null,
      "outputs": [
        {
          "output_type": "stream",
          "name": "stdout",
          "text": [
            "Probabilidade de realizar uma venda de valor inferior a US$ 7.500 é: 0.8943502263331446\n"
          ]
        }
      ]
    },
    {
      "cell_type": "markdown",
      "source": [
        "Com base na situação. Qual é a probabilidade de Amir fechar um negócio de valor superior a US$ 1.000?"
      ],
      "metadata": {
        "id": "UVjlfBGupI1f"
      }
    },
    {
      "cell_type": "code",
      "source": [
        "# Calcula a probabilidade de realizar uma venda de valor superior ao especificado\n",
        "prob_venda_sup_1000 = 1 - norm.cdf(x=1000, loc=mean_dist, scale=std_dist)\n",
        "# Printa o resultado\n",
        "print(f'Probabilidade de realizar uma venda de valor superior a US$ 1.000 é: {prob_venda_sup_1000}')"
      ],
      "metadata": {
        "colab": {
          "base_uri": "https://localhost:8080/"
        },
        "id": "T-tbE7cJpQLq",
        "outputId": "98f4183e-e335-4748-c8cf-f5be9639cc31"
      },
      "execution_count": null,
      "outputs": [
        {
          "output_type": "stream",
          "name": "stdout",
          "text": [
            "Probabilidade de realizar uma venda de valor superior a US$ 1.000 é: 0.9772498680518208\n"
          ]
        }
      ]
    },
    {
      "cell_type": "markdown",
      "source": [
        "Com base na situação. Qual é a probabilidade de Amir fechar um negócio entre US$ 3.000 e US$ 7.000?"
      ],
      "metadata": {
        "id": "nfYgKSttp--_"
      }
    },
    {
      "cell_type": "code",
      "source": [
        "# Calcula a probabilidade de realizar uma venda de valor superior ao especificado\n",
        "prob_venda_entre_3000_7000 = norm.cdf(x=7000, loc=mean_dist, scale=std_dist) - norm.cdf(x=3000, loc=mean_dist, scale=std_dist)\n",
        "# Printa o resultado\n",
        "print(f'Probabilidade de realizar uma venda de valor entre US$ 3.000 e US$ 7.000 é: {prob_venda_entre_3000_7000}')"
      ],
      "metadata": {
        "colab": {
          "base_uri": "https://localhost:8080/"
        },
        "id": "vCltX-q7qJFX",
        "outputId": "f6e23183-d0ff-44ee-80c5-4e580c7dbede"
      },
      "execution_count": null,
      "outputs": [
        {
          "output_type": "stream",
          "name": "stdout",
          "text": [
            "Probabilidade de realizar uma venda de valor entre US$ 3.000 e US$ 7.000 é: 0.6826894921370859\n"
          ]
        }
      ]
    },
    {
      "cell_type": "markdown",
      "source": [
        "Com base no enunciado. 60% das vendas de Amir são até que valor?"
      ],
      "metadata": {
        "id": "YBDleV0fqopC"
      }
    },
    {
      "cell_type": "code",
      "source": [
        "# Calcula o percentil 60 da dsitribuição de vendas de Amir\n",
        "percentil_60 = norm.ppf(q=0.60, loc=mean_dist, scale=std_dist)\n",
        "# Printa o resultado\n",
        "print(f'60% das vendas feitas por Amir estão abaixo do valor: {percentil_60}')"
      ],
      "metadata": {
        "colab": {
          "base_uri": "https://localhost:8080/"
        },
        "id": "cqIBI8T5q92v",
        "outputId": "1b6d7bf5-0f35-4136-f56d-faf304009938"
      },
      "execution_count": null,
      "outputs": [
        {
          "output_type": "stream",
          "name": "stdout",
          "text": [
            "60% das vendas feitas por Amir estão abaixo do valor: 5506.6942062716\n"
          ]
        }
      ]
    },
    {
      "cell_type": "markdown",
      "source": [
        "As 10% maiores vendas de Amir estão acima de qual valor?"
      ],
      "metadata": {
        "id": "OezcwHUAkoSu"
      }
    },
    {
      "cell_type": "code",
      "source": [
        "# Calcula o percentil 90% (100% - 10%) da distribuição de vendas de Amir\n",
        "percentil_90 = norm.ppf(q=(1-0.1), loc=mean_dist, scale=std_dist)\n",
        "# Printa o resultado\n",
        "print(f'As 10% maiores vendas feitas por Amir estão acima do valor: {percentil_90}')"
      ],
      "metadata": {
        "colab": {
          "base_uri": "https://localhost:8080/"
        },
        "id": "W2vo0ZEuk81w",
        "outputId": "88d07c97-e8b3-4a65-ac78-9e7c9d670edc"
      },
      "execution_count": null,
      "outputs": [
        {
          "output_type": "stream",
          "name": "stdout",
          "text": [
            "As 10% maiores vendas feitas por Amir estão acima do valor: 7563.103131089201\n"
          ]
        }
      ]
    },
    {
      "cell_type": "markdown",
      "source": [
        "### **Teorema do Limite Central**"
      ],
      "metadata": {
        "id": "ogXGvy1RKMPV"
      }
    },
    {
      "cell_type": "markdown",
      "source": [
        "* O Teorema do Limite Central (TLC) se aplica a dados com qualquer distribuição de frequência/probilidade\n",
        "* A distribuição amostral de uma estatística (média, desvio padrão, proporções, etc...) tende a uma distribuição normal conforme aumenta-se o número de experimentos (isto é, amostras retiradas da população, de onde serão mensuradas as estatísticas)\n",
        "  > - Quanto maior o tamanho da amostra (número de registros contido nela), mais próxima a distribuição estará de uma distribuição normal. Isso é o cerne do TLC (Mais importante para a normalidade da distribuição das médias)\n",
        "  >   - Quando você aumenta o tamanho de cada amostra (n), a distribuição das médias amostrais (a distribuição que você obteria se repetisse o processo de amostragem muitas vezes e calculasse a média de cada amostra) se aproxima cada vez mais de uma distribuição normal.\n",
        "  >   - Em termos práticos: Se você quer usar estatísticas que pressupõem normalidade (como muitos testes de hipóteses e intervalos de confiança), aumentar o tamanho da amostra é uma estratégia fundamental para que a distribuição das médias amostrais seja suficientemente próxima da normal para que essas estatísticas sejam válidas, mesmo que a população original não seja normalmente distribuída.\n",
        "  > - Quanto maior o número de experimentos (amostras extraídas) mais próxima a média da distribuição das médias amostrais estará da média real (mais importante para a precisão da estimativa da média)\n",
        "  >   - A \"média da distribuição das médias amostrais\" é, em termos técnicos, o valor esperado da média amostral. O TLC garante que este valor esperado é igual à média da população real (μ). Em outras palavras, em média, as médias amostrais \"acertam\" a média populacional.\n",
        "  >   - Aumentar o número de experimentos (ou seja, coletar mais amostras e calcular mais médias amostrais) não muda a forma da distribuição das médias amostrais (essa forma é determinada principalmente pelo tamanho da amostra, como vimos no ponto 1). No entanto, aumentar o número de amostras permite que você estime com mais precisão a \"média da distribuição das médias amostrais\" (que é a média populacional).\n",
        "  >   - Imagine que você está tentando estimar a média populacional usando as médias amostrais. Se você tiver apenas algumas médias amostrais, sua estimativa da média da distribuição das médias amostrais (e, portanto, da média populacional) será menos precisa e mais suscetível a variações aleatórias. Mas, se você tiver muitas médias amostrais, você pode calcular a média dessas médias amostrais e essa média estará muito mais próxima da verdadeira média populacional.\n",
        "\n",
        "* O TLC só se aplica quando as amostrar retiradas da população são aleatórias/randômicas e independente (na prática, as amostragem devem ser feitas com reposição, para que uma amostra não aletere a probabilidade de seleção de outras)\n",
        "  > - Entretanto, quando temos uma população suficientemente grande, de forma que a probabilidade de um registro ser selecionado é ínfima e realizar uma amostragem sem reposição aumente a probabilidade de cada registros ser selecionado em uma quantidade também ínfima, é satisfatório premissar que as amostras são independentes (mesmo que sejam amostras sem reposição)\n",
        "* A média da distribuição normal, após aplicação do LTC, deve ser entendida como uma estimativa da estatísticas na amostra, relativo a população que ela pertence\n",
        "* O TLC é uma técnica muito útil por três principais motivos:\n",
        "  > - Para estimar características (estatísticas) de dados amostrais cuja a distribuição dos dados populacionais, não conhecemos!\n",
        "  > - Para estimar características (estatísticas) de dados populacionais muitos grandes (ou por serem difíceis de coletar, analisar ou caros de obter). Ao invés disso, é possível coletar várias amostras menores e estimar, com boa precisão, estatísticas da população\n",
        "  > - Para obter uma distribuição normal com características semelhantes de uma distribuição amostral qualquer, cuja há o pressuposto de normalidade para aplicação de algum método estatístico, por exemplo: um teste de hipótese paramétrico\n"
      ],
      "metadata": {
        "id": "xc_IthItU2QC"
      }
    },
    {
      "cell_type": "markdown",
      "source": [
        "A seguir, vamos simular dados populacionais sintéticos de individuos com idade entre 1 e 99 anos, em seguida extrair K amostras de tamanho N a fim de verificar empiracamente o TLC:"
      ],
      "metadata": {
        "id": "PzmPZW_fGuLO"
      }
    },
    {
      "cell_type": "code",
      "source": [
        "# Import das libs\n",
        "import numpy as np\n",
        "import matplotlib.pyplot as plt"
      ],
      "metadata": {
        "id": "rh5ZBUIfFk8o"
      },
      "execution_count": null,
      "outputs": []
    },
    {
      "cell_type": "code",
      "source": [
        "#  Configura semente aleatória\n",
        "np.random.seed(0)"
      ],
      "metadata": {
        "id": "EVd2MThENDgC"
      },
      "execution_count": null,
      "outputs": []
    },
    {
      "cell_type": "code",
      "source": [
        "# Define função que gera dados populacionais sintéticos\n",
        "def gerar_populacao(tamanho_populacao):\n",
        "    \"\"\"Gera um conjunto de dados populacionais simulando idades de 1 a 99 anos.\"\"\"\n",
        "    np.random.seed(0)\n",
        "    return np.random.randint(1, 100, tamanho_populacao)\n",
        "\n",
        "# Define função que extrai K amostras de tamanho N a partir dos dados populacionais\n",
        "def extrair_amostras(populacao, num_amostras, tamanho_amostra):\n",
        "    \"\"\"Extrai K amostras de tamanho N da população.\"\"\"\n",
        "    amostras = []\n",
        "    for _ in range(num_amostras):\n",
        "        amostra = np.random.choice(populacao, tamanho_amostra, replace=True)\n",
        "        amostras.append(amostra)\n",
        "    return amostras\n",
        "\n",
        "# Define função que calcula estatísticas dos dados amostrais\n",
        "def calcular_estatisticas_amostras(amostras):\n",
        "    \"\"\"Calcula médias, desvios padrões e proporções das amostras.\"\"\"\n",
        "    medias_amostrais = []\n",
        "    desvios_padrao_amostrais = []\n",
        "    proporcoes_25_35_amostrais = []\n",
        "\n",
        "    for amostra in amostras:\n",
        "        medias_amostrais.append(np.mean(amostra))\n",
        "        desvios_padrao_amostrais.append(np.std(amostra, ddof=1)) # ddof=1 para desvio padrão amostral\n",
        "        idade_25_35 = np.sum((amostra >= 25) & (amostra <= 35))\n",
        "        proporcao = idade_25_35 / len(amostra)\n",
        "        proporcoes_25_35_amostrais.append(proporcao)\n",
        "\n",
        "    return medias_amostrais, desvios_padrao_amostrais, proporcoes_25_35_amostrais\n",
        "\n",
        "# Define função que calcula estatísticas dos dados populacionais\n",
        "def calcular_estatisticas_populacao(populacao):\n",
        "    \"\"\"Calcula média, desvio padrão e proporção da população.\"\"\"\n",
        "    media_populacional = np.mean(populacao)\n",
        "    desvio_padrao_populacional = np.std(populacao, ddof=1) # ddof=1 para ser comparável ao amostral se fosse amostra da população maior\n",
        "    idade_25_35_pop = np.sum((populacao >= 25) & (populacao <= 35))\n",
        "    proporcao_25_35_populacional = idade_25_35_pop / len(populacao)\n",
        "    return media_populacional, desvio_padrao_populacional, proporcao_25_35_populacional"
      ],
      "metadata": {
        "id": "9AsRHSgeFntW"
      },
      "execution_count": null,
      "outputs": []
    },
    {
      "cell_type": "code",
      "source": [
        "# Parametros\n",
        "tamanho_populacao = 100_000\n",
        "num_amostras_k = 100\n",
        "tamanho_amostra_n = 50\n",
        "\n",
        "# Gerar população\n",
        "populacao = gerar_populacao(tamanho_populacao)\n",
        "\n",
        "# Extrair amostras\n",
        "amostras = extrair_amostras(populacao, num_amostras_k, tamanho_amostra_n)\n",
        "\n",
        "# Calcular estatísticas das amostras\n",
        "medias_amostrais, desvios_padrao_amostrais, proporcoes_25_35_amostrais = calcular_estatisticas_amostras(amostras)\n",
        "\n",
        "# Calcular estatísticas da população\n",
        "media_populacional, desvio_padrao_populacional, proporcao_25_35_populacional = calcular_estatisticas_populacao(populacao)\n",
        "\n",
        "# Calcular estatísticas das médias amostrais, desvios padrões amostrais e proporções amostrais\n",
        "media_das_medias_amostrais = np.mean(medias_amostrais)\n",
        "desvio_padrao_das_medias_amostrais = np.std(medias_amostrais, ddof=1)\n",
        "proporcao_media_das_proporcoes_amostrais = np.mean(proporcoes_25_35_amostrais)\n",
        "media_dos_desvios_padrao_amostrais = np.mean(desvios_padrao_amostrais)\n",
        "\n",
        "# Imprimir e comparar estatísticas\n",
        "print(\"--- Estatísticas ---\")\n",
        "print(\"\\nEstatísticas da População:\\n\")\n",
        "print(f\"  Média Populacional: {media_populacional:.2f}\")\n",
        "print(f\"  Desvio Padrão Populacional: {desvio_padrao_populacional:.2f}\")\n",
        "print(f\"  Proporção (25-35 anos) Populacional: {proporcao_25_35_populacional:.4f}\")\n",
        "\n",
        "print(\"\\nEstatísticas das Amostras:\\n\")\n",
        "print(f\"  Número de Amostras (K): {num_amostras_k}\")\n",
        "print(f\"  Tamanho da Amostra (N): {tamanho_amostra_n}\\n\")\n",
        "print(f\"  Média das Médias Amostrais: {media_das_medias_amostrais:.2f}\")\n",
        "print(f\"  Desvio Padrão das Médias Amostrais: {desvio_padrao_das_medias_amostrais:.2f}\")\n",
        "print(f\"  Proporção Média das Proporções Amostrais (25-35 anos): {proporcao_media_das_proporcoes_amostrais:.4f}\")\n",
        "print(f\"  Média dos Desvios Padrão Amostrais: {media_dos_desvios_padrao_amostrais:.2f}\")\n",
        "print(\"\\n--- Gráficos ---\\n\")\n",
        "\n",
        "# Gerar histogramas\n",
        "plt.figure(figsize=(15, 5))\n",
        "\n",
        "plt.subplot(1, 3, 1)\n",
        "plt.hist(populacao, bins=range(1, 101), edgecolor='black', density=True)\n",
        "plt.title('Histograma da População (Idades)')\n",
        "plt.xlabel('Idade')\n",
        "plt.ylabel('Frequência')\n",
        "\n",
        "plt.subplot(1, 3, 2)\n",
        "plt.hist(medias_amostrais, bins=30, edgecolor='black', density=True)\n",
        "plt.title('Histograma das Médias Amostrais')\n",
        "plt.xlabel('Média das Amostras')\n",
        "plt.ylabel('Frequência')\n",
        "\n",
        "plt.subplot(1, 3, 3)\n",
        "plt.hist(desvios_padrao_amostrais, bins=30, edgecolor='black', density=True)\n",
        "plt.title('Histograma dos Desvios Padrão Amostrais')\n",
        "plt.xlabel('Desvio Padrão das Amostras')\n",
        "plt.ylabel('Frequência')\n",
        "\n",
        "plt.tight_layout()\n",
        "plt.show()"
      ],
      "metadata": {
        "colab": {
          "base_uri": "https://localhost:8080/",
          "height": 843
        },
        "id": "kQzJgQjUHaB-",
        "outputId": "5c5bf5f6-7593-41a7-d412-d39c0e48ac5a"
      },
      "execution_count": null,
      "outputs": [
        {
          "output_type": "stream",
          "name": "stdout",
          "text": [
            "--- Estatísticas ---\n",
            "\n",
            "Estatísticas da População:\n",
            "\n",
            "  Média Populacional: 50.01\n",
            "  Desvio Padrão Populacional: 28.54\n",
            "  Proporção (25-35 anos) Populacional: 0.1115\n",
            "\n",
            "Estatísticas das Amostras:\n",
            "\n",
            "  Número de Amostras (K): 100\n",
            "  Tamanho da Amostra (N): 50\n",
            "\n",
            "  Média das Médias Amostrais: 50.55\n",
            "  Desvio Padrão das Médias Amostrais: 4.53\n",
            "  Proporção Média das Proporções Amostrais (25-35 anos): 0.1088\n",
            "  Média dos Desvios Padrão Amostrais: 28.52\n",
            "\n",
            "--- Gráficos ---\n",
            "\n"
          ]
        },
        {
          "output_type": "display_data",
          "data": {
            "text/plain": [
              "<Figure size 1500x500 with 3 Axes>"
            ],
            "image/png": "[encoded data removed]"
          },
          "metadata": {}
        }
      ]
    },
    {
      "cell_type": "code",
      "source": [
        "# Parametros\n",
        "tamanho_populacao = 100_000\n",
        "num_amostras_k = 100\n",
        "tamanho_amostra_n = 500\n",
        "\n",
        "# Gerar população\n",
        "populacao = gerar_populacao(tamanho_populacao)\n",
        "\n",
        "# Extrair amostras\n",
        "amostras = extrair_amostras(populacao, num_amostras_k, tamanho_amostra_n)\n",
        "\n",
        "# Calcular estatísticas das amostras\n",
        "medias_amostrais, desvios_padrao_amostrais, proporcoes_25_35_amostrais = calcular_estatisticas_amostras(amostras)\n",
        "\n",
        "# Calcular estatísticas da população\n",
        "media_populacional, desvio_padrao_populacional, proporcao_25_35_populacional = calcular_estatisticas_populacao(populacao)\n",
        "\n",
        "# Calcular estatísticas das médias amostrais, desvios padrões amostrais e proporções amostrais\n",
        "media_das_medias_amostrais = np.mean(medias_amostrais)\n",
        "desvio_padrao_das_medias_amostrais = np.std(medias_amostrais, ddof=1)\n",
        "proporcao_media_das_proporcoes_amostrais = np.mean(proporcoes_25_35_amostrais)\n",
        "media_dos_desvios_padrao_amostrais = np.mean(desvios_padrao_amostrais)\n",
        "\n",
        "# Imprimir e comparar estatísticas\n",
        "print(\"--- Estatísticas ---\")\n",
        "print(\"\\nEstatísticas da População:\\n\")\n",
        "print(f\"  Média Populacional: {media_populacional:.2f}\")\n",
        "print(f\"  Desvio Padrão Populacional: {desvio_padrao_populacional:.2f}\")\n",
        "print(f\"  Proporção (25-35 anos) Populacional: {proporcao_25_35_populacional:.4f}\")\n",
        "\n",
        "print(\"\\nEstatísticas das Amostras:\\n\")\n",
        "print(f\"  Número de Amostras (K): {num_amostras_k}\")\n",
        "print(f\"  Tamanho da Amostra (N): {tamanho_amostra_n}\\n\")\n",
        "print(f\"  Média das Médias Amostrais: {media_das_medias_amostrais:.2f}\")\n",
        "print(f\"  Desvio Padrão das Médias Amostrais: {desvio_padrao_das_medias_amostrais:.2f}\")\n",
        "print(f\"  Proporção Média das Proporções Amostrais (25-35 anos): {proporcao_media_das_proporcoes_amostrais:.4f}\")\n",
        "print(f\"  Média dos Desvios Padrão Amostrais: {media_dos_desvios_padrao_amostrais:.2f}\")\n",
        "print(\"\\n--- Gráficos ---\\n\")\n",
        "\n",
        "# Gerar histogramas\n",
        "plt.figure(figsize=(15, 5))\n",
        "\n",
        "plt.subplot(1, 3, 1)\n",
        "plt.hist(populacao, bins=range(1, 101), edgecolor='black', density=True)\n",
        "plt.title('Histograma da População (Idades)')\n",
        "plt.xlabel('Idade')\n",
        "plt.ylabel('Frequência')\n",
        "\n",
        "plt.subplot(1, 3, 2)\n",
        "plt.hist(medias_amostrais, bins=30, edgecolor='black', density=True)\n",
        "plt.title('Histograma das Médias Amostrais')\n",
        "plt.xlabel('Média das Amostras')\n",
        "plt.ylabel('Frequência')\n",
        "\n",
        "plt.subplot(1, 3, 3)\n",
        "plt.hist(desvios_padrao_amostrais, bins=30, edgecolor='black', density=True)\n",
        "plt.title('Histograma dos Desvios Padrão Amostrais')\n",
        "plt.xlabel('Desvio Padrão das Amostras')\n",
        "plt.ylabel('Frequência')\n",
        "\n",
        "plt.tight_layout()\n",
        "plt.show()"
      ],
      "metadata": {
        "colab": {
          "base_uri": "https://localhost:8080/",
          "height": 890
        },
        "id": "_ncK6hLVMze3",
        "outputId": "a71e945f-a75b-42a2-b2f0-f15b8c3f9049"
      },
      "execution_count": null,
      "outputs": [
        {
          "output_type": "stream",
          "name": "stdout",
          "text": [
            "--- Estatísticas ---\n",
            "\n",
            "Estatísticas da População:\n",
            "\n",
            "  Média Populacional: 50.01\n",
            "  Desvio Padrão Populacional: 28.54\n",
            "  Proporção (25-35 anos) Populacional: 0.1115\n",
            "\n",
            "Estatísticas das Amostras:\n",
            "\n",
            "  Número de Amostras (K): 100\n",
            "  Tamanho da Amostra (N): 500\n",
            "\n",
            "  Média das Médias Amostrais: 50.07\n",
            "  Desvio Padrão das Médias Amostrais: 1.17\n",
            "  Proporção Média das Proporções Amostrais (25-35 anos): 0.1121\n",
            "  Média dos Desvios Padrão Amostrais: 28.53\n",
            "\n",
            "--- Gráficos ---\n",
            "\n"
          ]
        },
        {
          "output_type": "display_data",
          "data": {
            "text/plain": [
              "<Figure size 1500x500 with 3 Axes>"
            ],
            "image/png": "[encoded data removed]"
          },
          "metadata": {}
        }
      ]
    },
    {
      "cell_type": "markdown",
      "source": [
        "### **Dsitribuição de Poisson**"
      ],
      "metadata": {
        "id": "KX2vXHO-NyOW"
      }
    },
    {
      "cell_type": "markdown",
      "source": [
        "**Características:**\n",
        "\n",
        "- A distribuição de Poisson modela a **taxa de ocorrência** de **eventos raros** e **aleatórios** em um **intervalo fixo**\n",
        "- Um dos pressupostos da distribuição de poisson é que os eventos são raros e randômicos. Além disso, que são **independentes (um evento não afeta a probabibilidade do outro ocorrer)**\n",
        "- A **taxa média de ocorrência** dos eventos deve ser conhecida e **constante** (ou premissada como). Este parâmetro é conhecido como **𝛌 (lambda)** e é o único parâmetro da distribuição"
      ],
      "metadata": {
        "id": "YLkfW2UDkOMq"
      }
    },
    {
      "cell_type": "markdown",
      "source": [
        ">**Situação Problema:**\n",
        ">\n",
        "> Imagine que você é o gerente de operações de um grande data center que hospeda serviços online críticos para diversas empresas. Este data center possui centenas de servidores trabalhando 24 horas por dia, 7 dias por semana. Servidores, como qualquer equipamento, podem apresentar **falhas inesperadas e aleatórias**.\n",
        ">\n",
        "> Você observou historicamente que, em média, **durante um período de 24 horas (um dia completo), ocorrem 4 falhas de servidores** no data center. Essas falhas parecem ser **eventos independentes e aleatórios**, não concentradas em momentos específicos do dia e **não relacionadas entre si** (uma falha não causa outra).\n",
        ">\n",
        "> **Pergunta 1:** Qual é a probabilidade de que, em um determinado dia (período de 24 horas), ocorram exatamente 7 falhas de servidores no data center?\n",
        ">\n",
        "> **Pergunta 2:** Qual é a probabilidade de que, em uma semana, ocorram entre 20 e 28 falhas de servidores no data center?"
      ],
      "metadata": {
        "id": "TmorrrqDnRF0"
      }
    },
    {
      "cell_type": "code",
      "source": [
        "# Import das libs\n",
        "from scipy.stats import poisson"
      ],
      "metadata": {
        "id": "mVDHC_oLqVWo"
      },
      "execution_count": null,
      "outputs": []
    },
    {
      "cell_type": "markdown",
      "source": [
        "**Pergunta 1:**"
      ],
      "metadata": {
        "id": "cXoEf-WIrNgT"
      }
    },
    {
      "cell_type": "code",
      "source": [
        "# Define a taxa de ocorrência\n",
        "taxa_ocorrencia = 4 # (em um intervalo fixo de 24 horas)\n",
        "# Calcula a probabilidade de ocorrência de 7 falhas\n",
        "prob_7_falhas = poisson.pmf(k=7, mu=taxa_ocorrencia)\n",
        "# Printa o resultado\n",
        "print(f'Probabilidade de ocorrerem 7 falhas em um dia: {prob_7_falhas: .4f}')"
      ],
      "metadata": {
        "colab": {
          "base_uri": "https://localhost:8080/"
        },
        "id": "0uUKJPW9qNyb",
        "outputId": "347b7a1d-b0d8-4342-81d5-3602f197a09c"
      },
      "execution_count": null,
      "outputs": [
        {
          "output_type": "stream",
          "name": "stdout",
          "text": [
            "Probabilidade de ocorrerem 7 falhas em um dia:  0.0595\n"
          ]
        }
      ]
    },
    {
      "cell_type": "markdown",
      "source": [
        "**Pergunta 2:**"
      ],
      "metadata": {
        "id": "UA4I9zN6qnVg"
      }
    },
    {
      "cell_type": "code",
      "source": [
        "# Define a taxa de ocorrência\n",
        "taxa_ocorrencia = 4 # (em um intervalo fixo de 24 horas)\n",
        "# Define taxa de ocorrência semanal\n",
        "taxa_ocorrencia_semanal = taxa_ocorrencia * 7\n",
        "# Calcula a probabilidade de ocorrência entre 20 e 28 falhas em uma semana\n",
        "prob_20_28_falhas = poisson.cdf(k=28, mu=taxa_ocorrencia_semanal) - poisson.cdf(k=19, mu=taxa_ocorrencia_semanal)\n",
        "# Printa o resultado\n",
        "print(f'Probabilidade de ocorrerem entre 20 e 28 falhas em uma semana: {prob_20_28_falhas: .4f}')"
      ],
      "metadata": {
        "colab": {
          "base_uri": "https://localhost:8080/"
        },
        "id": "W_bPP1iQs7ZQ",
        "outputId": "b7db1285-c036-4fef-e587-6d07d440e364"
      },
      "execution_count": null,
      "outputs": [
        {
          "output_type": "stream",
          "name": "stdout",
          "text": [
            "Probabilidade de ocorrerem entre 20 e 28 falhas em uma semana:  0.5022\n"
          ]
        }
      ]
    },
    {
      "cell_type": "markdown",
      "source": [
        "### **Dsitribuição de Exponencial**"
      ],
      "metadata": {
        "id": "ao_syt_9N1Fw"
      }
    },
    {
      "cell_type": "markdown",
      "source": [
        "**Características:**\n",
        "\n",
        "- Modela a probabilidade de um intervalo fixo (espeço, volumes, tempo, etc... Geralmente tempo) entre a ocorrência de eventos de poisson\n",
        "  - Ex: Qual a probabilidade do intervalo de tempo entre terremotos na California ocorrem entre 6 a 8 meses (supondo conhecimento da taxa de ocorrência média $\\lambda$)\n",
        "- É uma distribuição contínua modelada em função do inverso da taxa de ocorrência média ($1/\\lambda$) dos eventos de poisson\n",
        "- O parâmetro lambda afeta especialmente o decaimento da curva exponencial\n",
        "\t- Quanto **menor o lambda** (taxa de ocorrência), **menor o decaimento** da curva (calda mais \"gorda\" para a direita)... Que reflete a **maior probabilidade** de **intervalos de tempo maiores** entre eventos\n",
        "\t- Quanto **maior o lambda** (taxa de ocorrência), **maior o decaimento da curva** (calda mais estreita para a direta)... Que reflete a **menor probabilidade** de **intervalor de tempo maiores** entre eventos"
      ],
      "metadata": {
        "id": "wCP8ZVg_kwuC"
      }
    },
    {
      "cell_type": "markdown",
      "source": [
        "> **Situação problema:**\n",
        ">\n",
        "> Imagine que você é o gerente de um call center de uma grande empresa de telecomunicações. Este call center recebe um volume constante de ligações de clientes buscando suporte técnico. Você percebeu que o tempo entre as ligações sucessivas que chegam ao call center parece seguir um padrão aleatório.\n",
        ">\n",
        "> Após analisar dados históricos, você constatou que, em média, o call center recebe 12 ligações por hora. Você quer entender melhor o tempo de espera entre as ligações e usar essa informação para otimizar o dimensionamento da equipe e o planejamento de recursos.\n",
        ">\n",
        "> Perguntas:\n",
        ">\n",
        "> 1) Qual é a probabilidade de que o tempo entre duas ligações sucessivas seja menor que 5 minutos?\n",
        ">\n",
        "> 2) Qual é a probabilidade de que o tempo entre duas ligações sucessivas seja maior que 10 minutos?\n",
        ">\n",
        "> 3) Qual é o tempo médio de espera entre duas ligações sucessivas?"
      ],
      "metadata": {
        "id": "1ww2CnNt2ijB"
      }
    },
    {
      "cell_type": "code",
      "source": [
        "# Import das libs\n",
        "from scipy.stats import expon"
      ],
      "metadata": {
        "id": "cyVeql7O3Db3"
      },
      "execution_count": null,
      "outputs": []
    },
    {
      "cell_type": "markdown",
      "source": [
        "**Pegunta 1:**"
      ],
      "metadata": {
        "id": "GYbqW4Yl-Bzy"
      }
    },
    {
      "cell_type": "code",
      "source": [
        "# Define taxa de ocorrência\n",
        "taxa_ocorrencia = 12 # em um intervalo fixo de 1 horas\n",
        "# Calcula a probabilidade do intervalo de tempo entre duas ligações ser menor que 5 min\n",
        "probabilidade_menor_5_min = expon.cdf(x=5, scale=1/(taxa_ocorrencia/60))\n",
        "# Printa o resultado\n",
        "print(f'Probabilidade do intervalo de tempo entre duas ligações ser menor que 5 min: {probabilidade_menor_5_min: .4f}')"
      ],
      "metadata": {
        "colab": {
          "base_uri": "https://localhost:8080/"
        },
        "id": "3n-5Tc0H3HaZ",
        "outputId": "ab18184f-1cf1-4432-9791-f0614e5224ba"
      },
      "execution_count": null,
      "outputs": [
        {
          "output_type": "stream",
          "name": "stdout",
          "text": [
            "Probabilidade do intervalo de tempo entre duas ligações ser menor que 5 min:  0.6321\n"
          ]
        }
      ]
    },
    {
      "cell_type": "markdown",
      "source": [
        "**Pergunta 2:**"
      ],
      "metadata": {
        "id": "y6BpxQWl-E7c"
      }
    },
    {
      "cell_type": "code",
      "source": [
        "# Define taxa de ocorrência\n",
        "taxa_ocorrencia = 12 # em um intervalo fixo de 1 horas\n",
        "# Calcula a probabilidade do intervalo entre ligações ser maior que 10 minutos\n",
        "probabilidade_maior_10_min = 1 - expon.cdf(x=10, scale=1/(taxa_ocorrencia/60))\n",
        "# Printa o resultado\n",
        "print(f'Probabilidade do intervalo de tempo entre duas ligações ser maior que 10 min: {probabilidade_maior_10_min: .4f}')"
      ],
      "metadata": {
        "colab": {
          "base_uri": "https://localhost:8080/"
        },
        "id": "6t-E54Sq-Gt1",
        "outputId": "73ce1aa1-e719-48e3-e23d-cb1958af3a40"
      },
      "execution_count": null,
      "outputs": [
        {
          "output_type": "stream",
          "name": "stdout",
          "text": [
            "Probabilidade do intervalo de tempo entre duas ligações ser maior que 10 min:  0.1353\n"
          ]
        }
      ]
    },
    {
      "cell_type": "markdown",
      "source": [
        "**Pergunta 3:**\n"
      ],
      "metadata": {
        "id": "6L4sYPYk-4wg"
      }
    },
    {
      "cell_type": "code",
      "source": [
        "# Define taxa de ocorrência\n",
        "taxa_ocorrencia = 12 # em um intervalo fixo de 1 horas\n",
        "# Calcula o intervalo de tempo médio de espera entre duas ligações\n",
        "tempo_medio_espera = expon.mean(scale=1/(taxa_ocorrencia/60))\n",
        "# Printa o resultado\n",
        "print(f'Tempo médio de espera entre duas ligações: {tempo_medio_espera: .2f} minutos')"
      ],
      "metadata": {
        "colab": {
          "base_uri": "https://localhost:8080/"
        },
        "id": "xgneOpws-7Se",
        "outputId": "e97e2033-10bd-4248-fe85-f4ae990f7ec6"
      },
      "execution_count": null,
      "outputs": [
        {
          "output_type": "stream",
          "name": "stdout",
          "text": [
            "Tempo médio de espera entre duas ligações:  5.00 minutos\n"
          ]
        }
      ]
    },
    {
      "cell_type": "markdown",
      "source": [
        "**Observação:**\n",
        "- Vale notar que para calcular a probabilidade do intervalo de tempo entre as ligações ser menor que 5 min, nós setamos o parâmetro ``x`` da CDF como $5$ e não $4$\n",
        "- Acontece que a distribuição exponencial é contínua (ao contrário da distribuição de poisson que é discreta). Isso significa que, por definição, a probabilidade de uma distribuição de probabilidade contínua ser exatamente igual a um valor é zero!\n",
        "- Logo, significa que $P(x ≤ 5) = P(x < 5)$ pois $P(x = 5)= 0$. Lembre-se que a probabilidade de uma distribuição contínua é a área sob a curva, portanto, a área sob o exato valor 5 é uma linha reta unidimensional, portanto com área zero\n",
        "- Por esse motivo, setar o parâmetro ``x`` como $4$ não seria adequado, pois estaríamos calculando a probabilidade do intervalo entre as ligações ser menor que 4 min"
      ],
      "metadata": {
        "id": "FSSE1tIs8F-a"
      }
    },
    {
      "cell_type": "markdown",
      "source": [
        "## **4) Outras distribuições importantes [Extra]**"
      ],
      "metadata": {
        "id": "aeEzhr2nx9Tr"
      }
    },
    {
      "cell_type": "markdown",
      "source": [
        "### **Dsitribuição de t-Studant**"
      ],
      "metadata": {
        "id": "Mzt-6_RkN3HH"
      }
    },
    {
      "cell_type": "markdown",
      "source": [
        "**Características:**\n",
        "\n",
        "- Distribuição **contínua** e **simétrica em torno da média**, semelhante a uma distribuição normal, porém com **caldas mais \"pesadas\"** (isto é, mais \"gordas\", que implica maior probabilidade de valores extremos)\n",
        "- Modelada em função do número de grau de liberdades (quanto maior o número de graus de liberdade, mais semelhante será a uma distribuição normal)\n",
        "\t- Quanto menor o GL, mais \"grossa\" é a calda e maior o desvio padrão (pois existem mais valores longe da média)\n",
        "\t- Quanto maior o GL, mais estreita é a calda e menor o desvio padrão (pois existem menos valores longe da média)\n",
        "- Extremamente útil quando estamos lidando com um **conjunto de dados amostrais pequenos** (n < 30, por convenção) e a **variância da população é desconhecido**\n",
        "- A distribuição t-student tem algumas principais aplicações práticas:\n",
        "  - **Testes de Hipóteses:** A distribuição t é amplamente utilizada em testes t (por exemplo, teste t de Student para uma amostra ou amostras independentes), onde a hipótese nula frequentemente se refere à igualdade de médias, considerando a incerteza na estimativa da variância.\n",
        "  - **Intervalos de Confiança:** Ao construir intervalos de confiança para a média de uma população com variância desconhecida, a distribuição t é empregada para refletir o erro adicional introduzido pela estimação da variância.\n",
        "  - **Regressão e Modelagem Estatística:** Em modelos de regressão linear, especialmente quando o tamanho da amostra é limitado, a distribuição t é utilizada para inferência sobre os coeficientes, permitindo estimar a significância das variáveis preditoras.\n",
        "- **Curioridade:** A distribuição t surgiu para resolver problemas práticos onde o tamanho da amostra era pequeno e a variância da população era desconhecida. Foi desenvolvida por William Sealy Gosset (sob o pseudônimo “Student”)"
      ],
      "metadata": {
        "id": "VzNWLa6olFJX"
      }
    },
    {
      "cell_type": "markdown",
      "source": [
        "> **Situação problema:**\n",
        ">\n",
        "> Imagine que você é um analista de dados em uma empresa de recrutamento especializada em tecnologia. A empresa está expandindo suas operações para uma nova cidade e precisa entender o mercado de trabalho local, especialmente no que diz respeito aos salários de programadores juniores.\n",
        ">\n",
        "> Você foi encarregado de estimar o salário médio anual de programadores juniores na nova cidade. Para isso, você coletou uma **amostra aleatória de 30 salários** de programadores juniores que trabalham em diferentes empresas da região. Após coletar os dados, você calcula:\n",
        ">\n",
        "> - Média amostral (x̄): R\\$ 45.000,00\n",
        "> - Desvio padrão amostral (s): R\\$ 6.000,00\n",
        ">\n",
        "> Você sabe que a **média amostral é apenas uma estimativa da verdadeira média populacional** dos salários de todos os programadores juniores na cidade. **Você não conhece o desvio padrão da população** (de todos os salários de programadores juniores da cidade), **apenas o desvio padrão da sua amostra.**\n",
        ">\n",
        "> **Questão:**\n",
        ">\n",
        "> Com base nos dados da sua amostra e considerando que você não conhece o desvio padrão populacional, construa um intervalo de confiança de 95% para o verdadeiro salário médio anual de programadores juniores na nova cidade."
      ],
      "metadata": {
        "id": "uPbnxbYm5ynQ"
      }
    },
    {
      "cell_type": "code",
      "source": [
        "# Import das libs\n",
        "import scipy.stats as stats\n",
        "import numpy as np"
      ],
      "metadata": {
        "id": "7ypsJnu3GzAA"
      },
      "execution_count": null,
      "outputs": []
    },
    {
      "cell_type": "code",
      "source": [
        "# --- Dados da Amostra ---\n",
        "media_amostral = 45000  # Média amostral dos salários (R$)\n",
        "desvio_padrao_amostral = 6000  # Desvio padrão amostral dos salários (R$)\n",
        "tamanho_amostra = 30  # Tamanho da amostra"
      ],
      "metadata": {
        "id": "E7qd5D2WG2Ti"
      },
      "execution_count": null,
      "outputs": []
    },
    {
      "cell_type": "code",
      "source": [
        "# --- Nível de Confiança e Significância ---\n",
        "nivel_confianca = 0.95\n",
        "alfa = 1 - nivel_confianca\n",
        "alfa_sobre_2 = alfa / 2\n",
        "\n",
        "# --- Graus de Liberdade ---\n",
        "graus_liberdade = tamanho_amostra - 1"
      ],
      "metadata": {
        "id": "w-tyzlBZG34n"
      },
      "execution_count": null,
      "outputs": []
    },
    {
      "cell_type": "code",
      "source": [
        "# --- Valor Crítico t (t_alpha/2) ---\n",
        "# Usando a função percent point function (ppf) da distribuição t para encontrar o valor t crítico\n",
        "# ppf(1 - alfa_sobre_2, graus_liberdade) nos dá o valor t para a cauda superior alfa/2\n",
        "valor_critico_t = stats.t.ppf(1 - alfa_sobre_2, graus_liberdade)\n",
        "\n",
        "# --- Erro Padrão da Média ---\n",
        "erro_padrao = desvio_padrao_amostral / np.sqrt(tamanho_amostra)\n",
        "\n",
        "# --- Margem de Erro ---\n",
        "margem_erro = valor_critico_t * erro_padrao\n",
        "\n",
        "# --- Intervalo de Confiança ---\n",
        "limite_inferior = media_amostral - margem_erro\n",
        "limite_superior = media_amostral + margem_erro"
      ],
      "metadata": {
        "id": "-USTlZSvHAnS"
      },
      "execution_count": null,
      "outputs": []
    },
    {
      "cell_type": "code",
      "source": [
        "# --- Exibição dos Resultados ---\n",
        "print(\"--- Intervalo de Confiança para o Salário Médio de Programadores Juniores ---\\n\")\n",
        "print(f\"Média Amostral (x̄): R$ {media_amostral:.2f}\")\n",
        "print(f\"Desvio Padrão Amostral (s): R$ {desvio_padrao_amostral:.2f}\")\n",
        "print(f\"Tamanho da Amostra (n): {tamanho_amostra}\")\n",
        "print(f\"Nível de Confiança: {nivel_confianca*100:.0f}%\")\n",
        "print(f\"Graus de Liberdade (gl): {graus_liberdade}\")\n",
        "print(f\"Valor Crítico t (t_α/2): {valor_critico_t:.3f}\")\n",
        "print(f\"Erro Padrão da Média: R$ {erro_padrao:.2f}\")\n",
        "print(f\"Margem de Erro: R$ {margem_erro:.2f}\")\n",
        "\n",
        "print(\"\\n--- Intervalo de Confiança de 95% ---\\n\")\n",
        "print(f\"Limite Inferior: R$ {limite_inferior:.2f}\")\n",
        "print(f\"Limite Superior: R$ {limite_superior:.2f}\")\n",
        "print(f\"Intervalo de Confiança: (R$ {limite_inferior:.2f}, R$ {limite_superior:.2f})\")"
      ],
      "metadata": {
        "colab": {
          "base_uri": "https://localhost:8080/"
        },
        "id": "xJjiE3oL7g7u",
        "outputId": "64da1718-f133-428b-e4df-203a88aa6b86"
      },
      "execution_count": null,
      "outputs": [
        {
          "output_type": "stream",
          "name": "stdout",
          "text": [
            "--- Intervalo de Confiança para o Salário Médio de Programadores Juniores ---\n",
            "\n",
            "Média Amostral (x̄): R$ 45000.00\n",
            "Desvio Padrão Amostral (s): R$ 6000.00\n",
            "Tamanho da Amostra (n): 30\n",
            "Nível de Confiança: 95%\n",
            "Graus de Liberdade (gl): 29\n",
            "Valor Crítico t (t_α/2): 2.045\n",
            "Erro Padrão da Média: R$ 1095.45\n",
            "Margem de Erro: R$ 2240.44\n",
            "\n",
            "--- Intervalo de Confiança de 95% ---\n",
            "\n",
            "Limite Inferior: R$ 42759.56\n",
            "Limite Superior: R$ 47240.44\n",
            "Intervalo de Confiança: (R$ 42759.56, R$ 47240.44)\n"
          ]
        }
      ]
    },
    {
      "cell_type": "markdown",
      "source": [
        "### **Dsitribuição de Geométrica**"
      ],
      "metadata": {
        "id": "gjxSjdWdN6gp"
      }
    },
    {
      "cell_type": "markdown",
      "source": [
        "**Características:**\n",
        "\n",
        "- É uma distribuição **discreta** que **modela o número de tentativas necessárias até que ocorra o pimeiro sucesso**, considerando uma **sequência de experimentos de Bernoulli** independentes (a ocorrência de um resultado em um evento, naõ afeta o resultado dos demais eventos)\n",
        "  - Experimentos de Bernoulli são **experimentos únicos** que possuem apenas **dois resultados** possíveis: *sucesso* ou *fracasso*, com probabilidade $p$ constante de sucesso em cada experimento\n",
        "  - Note que experimentos de Bernoulli estão diretamente associados também com a distribuição Binomial, pois ela pressupões que múltiplos experimentos de Bernoulli são realizados\n",
        "- Propriedades\n",
        "  - **Média (Esperança Matemática):** A média da distribuição geométrica é $ \\frac{1}{p} $. Isso indica que, em média, são necessárias $ \\frac{1}{p} $ tentativas para obter o primeiro sucesso.\n",
        "  - **Variância:** A variância é dada por $ \\frac{1 - p}{p^2} $, refletindo a dispersão em torno da média.\n",
        "  - **Memória Ausente:** A distribuição geométrica possui a propriedade de \"falta de memória\", ou seja, a probabilidade de obter um sucesso após $ k $ tentativas é a mesma, independentemente de quantas falhas já tenham ocorrido. Formalmente,\n",
        "  \n",
        "  $$ P(X > m + n \\mid X > m) = P(X > n) $$\n",
        "\n",
        "- A distribuição geométrica é amplamente utilizada em situações onde se deseja modelar o número de tentativas até o primeiro sucesso. Alguns exemplos incluem:\n",
        "  - **Processos de Fabricação:** Determinar o número de itens produzidos até que um item defeituoso seja encontrado.\n",
        "  - **Telecomunicações:** Modelar o número de pacotes transmitidos até que ocorra uma falha na transmissão.\n",
        "  - **Ensaios Clínicos:** Contar o número de pacientes tratados até que se observe o primeiro efeito colateral.\n",
        "\n",
        "- Relação com Outras Distribuições\n",
        "  - **Distribuição Binomial Negativa:** A distribuição geométrica é um caso especial da distribuição binomial negativa, onde o número de sucessos desejados é igual a 1.\n",
        "  - **Distribuição Exponencial:** No caso contínuo, a distribuição exponencial é análoga à distribuição geométrica, modelando o tempo até o primeiro evento em um processo de Poisson.\n",
        "\n",
        "- Considerações Adicionais\n",
        "  - **Independência:** As tentativas devem ser independentes, e a probabilidade de sucesso $ p $ deve permanecer constante em cada tentativa.\n",
        "  - **Início da Contagem:** Algumas definições consideram $ X $ como o número de falhas antes do primeiro sucesso, o que altera a fórmula da pmf para $ P(X = k) = (1 - p)^k \\cdot p $, com $ k = 0, 1, 2, \\ldots $.\n",
        "  - **Função de Distribuição Acumulada (CDF):** A função de distribuição acumulada é dada por $ F(k) = 1 - (1 - p)^k $, representando a probabilidade de que o primeiro sucesso ocorra em até $ k $ tentativas."
      ],
      "metadata": {
        "id": "F_EE_dNoca6c"
      }
    },
    {
      "cell_type": "markdown",
      "source": [
        "> **Situação problema:**\n",
        ">\n",
        "> Imagine que você é um vendedor que realiza ligações frias para potenciais clientes. Em cada ligação, você tem uma probabilidade de 0.15 (ou 15%) de efetuar uma venda. Assuma que cada ligação é independente das outras e que a probabilidade de sucesso (realizar uma venda) permanece constante para cada ligação. Você continua fazendo ligações até que consiga realizar a sua primeira venda do dia.\n",
        ">\n",
        "> Você está interessado em entender a probabilidade de realizar sua primeira venda em um número específico de ligações e o número esperado de ligações necessárias para concretizar a primeira venda.\n",
        ">\n",
        "> **Perguntas:**\n",
        ">\n",
        "> 1) Qual é a probabilidade de que você realize sua primeira venda exatamente na 3ª ligação?\n",
        ">\n",
        "> 2) Qual é a probabilidade de que você realize sua primeira venda em até 5 ligações (ou seja, na 1ª, 2ª, 3ª, 4ª ou 5ª ligação)?\n",
        ">\n",
        "> 3) Qual é a probabilidade de que você precise fazer mais de 5 ligações para realizar sua primeira venda?\n",
        ">\n",
        "> 4) Em média, quantas ligações você espera fazer para realizar sua primeira venda do dia?"
      ],
      "metadata": {
        "id": "x5k4wTm5l-gp"
      }
    },
    {
      "cell_type": "code",
      "source": [
        "# Import de libs\n",
        "from scipy.stats import geom"
      ],
      "metadata": {
        "id": "XOA-2bQ6mtJ4"
      },
      "execution_count": null,
      "outputs": []
    },
    {
      "cell_type": "code",
      "source": [
        "# Especifica as informações dos problema\n",
        "prob_sucesso = 0.15 # Probabilidade de efetuar uma venda"
      ],
      "metadata": {
        "id": "c1J4T7N9myC8"
      },
      "execution_count": null,
      "outputs": []
    },
    {
      "cell_type": "code",
      "source": [
        "# 1) Qual é a probabilidade de que você realize sua primeira venda exatamente na 3ª ligação?\n",
        "num_ligacoes_ate_venda = geom.pmf(k=3, p=prob_sucesso, loc=0)\n",
        "print(f\"Probabilidade de realizar sua primeira venda na 3ª ligação: {num_ligacoes_ate_venda:.4f}\")"
      ],
      "metadata": {
        "colab": {
          "base_uri": "https://localhost:8080/"
        },
        "id": "6KjxOOT2nMqD",
        "outputId": "315b1519-b60a-4cdb-ff73-592b330e19fa"
      },
      "execution_count": null,
      "outputs": [
        {
          "output_type": "stream",
          "name": "stdout",
          "text": [
            "Probabilidade de realizar sua primeira venda na 3ª ligação: 0.1084\n"
          ]
        }
      ]
    },
    {
      "cell_type": "code",
      "source": [
        "# 2) Qual é a probabilidade de que você realize sua primeira venda em até 5 ligações (ou seja, na 1ª, 2ª, 3ª, 4ª ou 5ª ligação)?\n",
        "num_ligacoes_ate_venda = geom.cdf(k=5, p=prob_sucesso, loc=0)\n",
        "print(f\"Probabilidade de realizar sua primeira venda em até 5 ligações: {num_ligacoes_ate_venda:.4f}\")"
      ],
      "metadata": {
        "colab": {
          "base_uri": "https://localhost:8080/"
        },
        "id": "hC5RqnEPpef9",
        "outputId": "2fa195d4-9ef6-4653-e883-4f53d4a2e1f3"
      },
      "execution_count": null,
      "outputs": [
        {
          "output_type": "stream",
          "name": "stdout",
          "text": [
            "Probabilidade de realizar sua primeira venda em até 5 ligações: 0.5563\n"
          ]
        }
      ]
    },
    {
      "cell_type": "code",
      "source": [
        "# 3) Qual é a probabilidade de que você precise fazer mais de 5 ligações para realizar sua primeira venda?\n",
        "num_ligacoes_ate_venda = 1 - geom.cdf(k=5, p=prob_sucesso, loc=0)\n",
        "print(f\"Probabilidade de precisar fazer mais de 5 ligações para realizar sua primeira venda: {num_ligacoes_ate_venda:.4f}\")"
      ],
      "metadata": {
        "colab": {
          "base_uri": "https://localhost:8080/"
        },
        "id": "sBV-tLrApyIz",
        "outputId": "c9618921-6b34-444f-8641-0a0607f066b8"
      },
      "execution_count": null,
      "outputs": [
        {
          "output_type": "stream",
          "name": "stdout",
          "text": [
            "Probabilidade de precisar fazer mais de 5 ligações para realizar sua primeira venda: 0.4437\n"
          ]
        }
      ]
    },
    {
      "cell_type": "code",
      "source": [
        "# 4) Em média, quantas ligações você espera fazer para realizar sua primeira venda do dia?\n",
        "media_ligacoes = geom.mean(p=prob_sucesso, loc=0)\n",
        "print(f\"Número médio de ligações necessárias para realizar sua primeira venda: {media_ligacoes:.2f}\")"
      ],
      "metadata": {
        "colab": {
          "base_uri": "https://localhost:8080/"
        },
        "id": "Wu0Fqd7Vp87J",
        "outputId": "685b65d8-3400-4751-b244-493215e69f7b"
      },
      "execution_count": null,
      "outputs": [
        {
          "output_type": "stream",
          "name": "stdout",
          "text": [
            "Número médio de ligações necessárias para realizar sua primeira venda: 6.67\n"
          ]
        }
      ]
    },
    {
      "cell_type": "markdown",
      "source": [
        "### **Dsitribuição de Qui-Quadrado**"
      ],
      "metadata": {
        "id": "t2HBrW1eGGnk"
      }
    },
    {
      "cell_type": "markdown",
      "source": [
        "A **distribuição qui‐quadrado** é fundamental na estatística inferencial e se destaca por sua utilidade em diversos testes, principalmente quando trabalhamos com dados categóricos e variâncias. A seguir, um resumo dos principais pontos que um cientista de dados sênior deve dominar:\n",
        "\n",
        "- Contexto e Origem\n",
        "\n",
        "  - **Origem e Derivação:**  \n",
        "  Desenvolvida por Karl Pearson, a distribuição qui‐quadrado surge da soma dos quadrados de variáveis aleatórias independentes que seguem uma distribuição normal padrão. Se $Z_1, Z_2, \\dots, Z_k$ são variáveis independentes $N(0,1)$, então  \n",
        "\n",
        "  $$[\n",
        "  \\chi^2 = Z_1^2 + Z_2^2 + \\dots + Z_k^2\n",
        "  ]$$\n",
        "\n",
        "  segue uma distribuição qui‐quadrado com $k$ graus de liberdade .\n",
        "\n",
        "- Propriedades Fundamentais\n",
        "\n",
        "  - **Domínio e Forma:**  \n",
        "  A distribuição é contínua, definida para $x \\ge 0$ e apresenta assimetria positiva (caudas pesadas à direita). Com o aumento dos graus de liberdade, a assimetria diminui e a distribuição tende a se aproximar de uma normal.\n",
        "\n",
        "  - **Média e Variância:**  \n",
        "  A média é igual ao número de graus de liberdade ($\\mu = k$) e a variância é $2k$.\n",
        "\n",
        "  - **Adição de Variáveis:**  \n",
        "  A soma de duas variáveis qui‐quadrado independentes resulta em outra variável qui‐quadrado, com graus de liberdade somados.\n",
        "\n",
        "- Aplicações Práticas\n",
        "\n",
        "  - **Testes de Hipóteses:**  \n",
        "  Utilizada para construir testes de aderência (goodness-of-fit) e de independência em tabelas de contingência. No teste de Pearson, por exemplo, a estatística é calculada como:\n",
        "  \n",
        "  $$\n",
        "  [\\chi^2 = \\sum \\frac{(O_i - E_i)^2}{E_i}]\n",
        "  $$\n",
        "  \n",
        "  onde $O_i$ e $E_i$ são, respectivamente, as frequências observadas e esperadas .\n",
        "\n",
        "  - **Inferência sobre Variâncias:**  \n",
        "  Serve para construir intervalos de confiança e testar hipóteses sobre a variância de uma população normal, além de ser base para a derivação de outras distribuições, como a t de Student e a F de Fisher-Snedecor.\n",
        "\n",
        "  - **Modelagem e Ajuste:**  \n",
        "  É empregada na verificação do ajuste de modelos estatísticos e na análise de erros, permitindo quantificar a discrepância entre dados observados e valores esperados.\n",
        "\n",
        "- Considerações Avançadas\n",
        "\n",
        "  - **Sensibilidade e Convergência:**  \n",
        "  Para amostras pequenas, a distribuição qui‐quadrado pode apresentar limitações, mas com o aumento dos graus de liberdade (ou tamanho amostral), a sua forma torna-se mais simétrica e a aproximação normal passa a valer.\n",
        "\n",
        "  - **Interpretação em Contexto:**  \n",
        "  Um valor de $\\chi^2$ muito alto, comparado com o valor crítico da distribuição para um dado nível de significância, leva à rejeição da hipótese nula em testes de aderência ou independência. Entretanto, é essencial avaliar também o tamanho do efeito para determinar a relevância prática dos resultados.\n",
        "\n",
        "- Conclusão:\n",
        "\n",
        "  - A distribuição qui‐quadrado é uma ferramenta indispensável na análise estatística, **principalmente para validar modelos e testar associações em dados categóricos**. Seu entendimento profundo – desde a derivação até as aplicações práticas – é crucial para a correta interpretação dos resultados e para a robustez das inferências em contextos de ciência de dados sênior."
      ],
      "metadata": {
        "id": "dF4U-L17qWtA"
      }
    },
    {
      "cell_type": "markdown",
      "source": [
        "> **Situação Problema:**\n",
        ">\n",
        "> Uma empresa de pesquisa de mercado está conduzindo um estudo para investigar se existe alguma relação entre a cor dos olhos das pessoas e sua preferência por diferentes marcas de café (Marca A, Marca B, Marca C). Eles coletaram dados de uma amostra aleatória de **500 consumidores** e registraram a cor dos olhos (Azul, Castanho, Verde) e a marca de café preferida de cada participante.\n",
        ">\n",
        "> **Dados Coletados (Frequências Observadas):**\n",
        ">\n",
        ">Os dados coletados foram organizados em uma tabela de contingência, mostrando as frequências observadas para cada combinação de cor dos olhos e marca de café preferida:\n",
        ">\n",
        ">| Cor dos Olhos | Marca A | Marca B | Marca C | Total por Cor dos Olhos |\n",
        "|---|---|---|---|---|\n",
        "| Azul        | 65      | 40      | 35      | 140                  |\n",
        "| Castanho    | 90      | 85      | 75      | 250                  |\n",
        "| Verde       | 45      | 35      | 30      | 110                  |\n",
        "| **Total por Marca** | **200**   | **160**   | **140**   | **500**                |\n",
        ">\n",
        ">**Problema Específico:**\n",
        ">\n",
        ">A empresa de pesquisa quer determinar se a preferência por marca de café é **independente** da cor dos olhos ou se existe alguma **associação** entre essas duas variáveis categóricas.\n",
        ">\n",
        ">**Perguntas:**\n",
        ">\n",
        ">1.  Existe evidência estatística para sugerir que a cor dos olhos e a preferência por marca de café são **dependentes**?\n",
        ">2.  Realize um teste de Qui-Quadrado para independência com um nível de significância de **α = 0.05** para responder à pergunta acima.\n",
        ">3.  Interprete os resultados do teste e conclua sobre a relação entre cor dos olhos e preferência por marca de café."
      ],
      "metadata": {
        "id": "dbbxxhsquHlO"
      }
    },
    {
      "cell_type": "code",
      "source": [
        "# Import das libs\n",
        "import scipy.stats as stats\n",
        "import numpy as np"
      ],
      "metadata": {
        "id": "BAP-KSuKwBsY"
      },
      "execution_count": null,
      "outputs": []
    },
    {
      "cell_type": "code",
      "source": [
        "# Tabela de contingência com frequências observadas\n",
        "observed_frequencies = np.array([[65, 40, 35],\n",
        "                                    [90, 85, 75],\n",
        "                                    [45, 35, 30]])"
      ],
      "metadata": {
        "id": "VbVbevcywEHN"
      },
      "execution_count": null,
      "outputs": []
    },
    {
      "cell_type": "code",
      "source": [
        "# Nível de significância (alpha)\n",
        "alpha = 0.05"
      ],
      "metadata": {
        "id": "xyZfgOjswHnh"
      },
      "execution_count": null,
      "outputs": []
    },
    {
      "cell_type": "code",
      "source": [
        "# --- Realizar o Teste Qui-Quadrado para Independência ---\n",
        "chi2_statistic, p_value, degrees_freedom, expected_frequencies = stats.chi2_contingency(observed_frequencies)\n",
        "\n",
        "# --- Critério de Decisão ---\n",
        "if p_value < alpha:\n",
        "    decision = \"Rejeitar a Hipótese Nula (H0)\"\n",
        "    conclusion = \"Há evidências estatísticas para sugerir que a cor dos olhos e a preferência por marca de café são DEPENDENTES.\"\n",
        "else:\n",
        "    decision = \"Falhar em Rejeitar a Hipótese Nula (H0)\"\n",
        "    conclusion = \"Não há evidências estatísticas suficientes para sugerir que a cor dos olhos e a preferência por marca de café são DEPENDENTES. Não podemos rejeitar a hipótese de INDEPENDÊNCIA.\"\n"
      ],
      "metadata": {
        "id": "97_YBDncwJUY"
      },
      "execution_count": null,
      "outputs": []
    },
    {
      "cell_type": "code",
      "source": [
        "# --- Exibição dos Resultados ---\n",
        "print(\"\\n--- Teste Qui-Quadrado para Independência ---\\n\")\n",
        "print(f\"Estatística Qui-Quadrado (χ²): {chi2_statistic:.4f}\")\n",
        "print(f\"Valor p: {p_value:.4f}\")\n",
        "print(f\"Graus de Liberdade (gl): {degrees_freedom}\")\n",
        "print(\"\\n--- Frequências Esperadas ---\\n\")\n",
        "print(expected_frequencies)\n",
        "print(f\"\\n--- Decisão (Nível de Significância α = {alpha}) ---\\n\")\n",
        "print(f\"Decisão: {decision}\")\n",
        "print(f\"Conclusão: {conclusion}\")"
      ],
      "metadata": {
        "colab": {
          "base_uri": "https://localhost:8080/"
        },
        "id": "WLy4VrSsv_c7",
        "outputId": "2482909c-f064-4e26-9567-5a29db12238f"
      },
      "execution_count": null,
      "outputs": [
        {
          "output_type": "stream",
          "name": "stdout",
          "text": [
            "\n",
            "--- Teste Qui-Quadrado para Independência ---\n",
            "\n",
            "Estatística Qui-Quadrado (χ²): 4.1250\n",
            "Valor p: 0.3894\n",
            "Graus de Liberdade (gl): 4\n",
            "\n",
            "--- Frequências Esperadas ---\n",
            "\n",
            "[[ 56.   44.8  39.2]\n",
            " [100.   80.   70. ]\n",
            " [ 44.   35.2  30.8]]\n",
            "\n",
            "--- Decisão (Nível de Significância α = 0.05) ---\n",
            "\n",
            "Decisão: Falhar em Rejeitar a Hipótese Nula (H0)\n",
            "Conclusão: Não há evidências estatísticas suficientes para sugerir que a cor dos olhos e a preferência por marca de café são DEPENDENTES. Não podemos rejeitar a hipótese de INDEPENDÊNCIA.\n"
          ]
        }
      ]
    },
    {
      "cell_type": "markdown",
      "source": [
        "#### **Resolução Analítica Passo a Passo do Teste Qui-Quadrado para Independência: Relação entre Cor dos Olhos e Preferência por Marca de Café**"
      ],
      "metadata": {
        "id": "34NU0kXExoFq"
      }
    },
    {
      "cell_type": "markdown",
      "source": [
        "Vamos resolver o problema analiticamente, seguindo os passos do teste de hipóteses Qui-Quadrado para independência.\n",
        "\n",
        "**1.  Formular as Hipóteses:**\n",
        "\n",
        "Em um teste de independência Qui-Quadrado, temos sempre as seguintes hipóteses:\n",
        "\n",
        "*   **Hipótese Nula (H₀):** As variáveis \"Cor dos Olhos\" e \"Preferência por Marca de Café\" são **independentes**.  Isto significa que não há associação entre elas; a preferência por marca de café não depende da cor dos olhos.\n",
        "\n",
        "*   **Hipótese Alternativa (H₁):** As variáveis \"Cor dos Olhos\" e \"Preferência por Marca de Café\" são **dependentes**. Isto significa que existe uma associação entre elas; a preferência por marca de café está relacionada à cor dos olhos.\n",
        "\n",
        "**2.  Calcular as Frequências Esperadas (Eᵢⱼ):**\n",
        "\n",
        "As frequências esperadas representam o número de observações que esperaríamos em cada célula da tabela de contingência *se as variáveis fossem independentes*.  Para calcular a frequência esperada para cada célula (linha *i*, coluna *j*), usamos a seguinte fórmula:\n",
        "\n",
        "Eᵢⱼ = (Total da Linha *ᵢ*  *  Total da Coluna *ⱼ*) / Total Geral\n",
        "\n",
        "Vamos calcular as frequências esperadas para cada célula da nossa tabela:\n",
        "\n",
        "*   **Célula (Azul, Marca A):**\n",
        "    E₁₁ = (Total Linha Azul * Total Coluna Marca A) / Total Geral = (140 * 200) / 500 = 28000 / 500 = **56**\n",
        "\n",
        "*   **Célula (Azul, Marca B):**\n",
        "    E₁₂ = (Total Linha Azul * Total Coluna Marca B) / Total Geral = (140 * 160) / 500 = 22400 / 500 = **44.8**\n",
        "\n",
        "*   **Célula (Azul, Marca C):**\n",
        "    E₁₃ = (Total Linha Azul * Total Coluna Marca C) / Total Geral = (140 * 140) / 500 = 19600 / 500 = **39.2**\n",
        "\n",
        "*   **Célula (Castanho, Marca A):**\n",
        "    E₂₁ = (Total Linha Castanho * Total Coluna Marca A) / Total Geral = (250 * 200) / 500 = 50000 / 500 = **100**\n",
        "\n",
        "*   **Célula (Castanho, Marca B):**\n",
        "    E₂₂ = (Total Linha Castanho * Total Coluna Marca B) / Total Geral = (250 * 160) / 500 = 40000 / 500 = **80**\n",
        "\n",
        "*   **Célula (Castanho, Marca C):**\n",
        "    E₂₃ = (Total Linha Castanho * Total Coluna Marca C) / Total Geral = (250 * 140) / 500 = 35000 / 500 = **70**\n",
        "\n",
        "*   **Célula (Verde, Marca A):**\n",
        "    E₃₁ = (Total Linha Verde * Total Coluna Marca A) / Total Geral = (110 * 200) / 500 = 22000 / 500 = **44**\n",
        "\n",
        "*   **Célula (Verde, Marca B):**\n",
        "    E₃₂ = (Total Linha Verde * Total Coluna Marca B) / Total Geral = (110 * 160) / 500 = 17600 / 500 = **35.2**\n",
        "\n",
        "*   **Célula (Verde, Marca C):**\n",
        "    E₃₃ = (Total Linha Verde * Total Coluna Marca C) / Total Geral = (110 * 140) / 500 = 15400 / 500 = **30.8**\n",
        "\n",
        "Resumindo as Frequências Esperadas em uma tabela:\n",
        "\n",
        "| Cor dos Olhos | Marca A | Marca B | Marca C |\n",
        "|---|---|---|---|\n",
        "| Azul        | 56      | 44.8    | 39.2    |\n",
        "| Castanho    | 100     | 80      | 70      |\n",
        "| Verde       | 44      | 35.2    | 30.8    |\n",
        "\n",
        "**3.  Calcular a Estatística de Teste Qui-Quadrado (χ²):**\n",
        "\n",
        "A estatística de teste Qui-Quadrado mede a discrepância entre as frequências observadas (Oᵢⱼ) e as frequências esperadas (Eᵢⱼ) em cada célula da tabela. A fórmula para a estatística Qui-Quadrado é:\n",
        "\n",
        "χ² = Σ Σ [(Oᵢⱼ - Eᵢⱼ)² / Eᵢⱼ]\n",
        "\n",
        "Onde a dupla somatória (Σ Σ) indica que somamos sobre todas as células da tabela de contingência. Vamos calcular para cada célula e depois somar:\n",
        "\n",
        "*   **Célula (Azul, Marca A):**  (65 - 56)² / 56 = (9)² / 56 = 81 / 56 ≈ 1.446\n",
        "*   **Célula (Azul, Marca B):**  (40 - 44.8)² / 44.8 = (-4.8)² / 44.8 = 23.04 / 44.8 ≈ 0.514\n",
        "*   **Célula (Azul, Marca C):**  (35 - 39.2)² / 39.2 = (-4.2)² / 39.2 = 17.64 / 39.2 ≈ 0.450\n",
        "*   **Célula (Castanho, Marca A):** (90 - 100)² / 100 = (-10)² / 100 = 100 / 100 = 1\n",
        "*   **Célula (Castanho, Marca B):** (85 - 80)² / 80 = (5)² / 80 = 25 / 80 = 0.3125\n",
        "*   **Célula (Castanho, Marca C):** (75 - 70)² / 70 = (5)² / 70 = 25 / 70 ≈ 0.357\n",
        "*   **Célula (Verde, Marca A):**  (45 - 44)² / 44 = (1)² / 44 = 1 / 44 ≈ 0.023\n",
        "*   **Célula (Verde, Marca B):**  (35 - 35.2)² / 35.2 = (-0.2)² / 35.2 = 0.04 / 35.2 ≈ 0.001\n",
        "*   **Célula (Verde, Marca C):**  (30 - 30.8)² / 30.8 = (-0.8)² / 30.8 = 0.64 / 30.8 ≈ 0.021\n",
        "\n",
        "Agora somamos todos esses valores para obter a estatística Qui-Quadrado:\n",
        "\n",
        "χ² ≈ 1.446 + 0.514 + 0.450 + 1 + 0.3125 + 0.357 + 0.023 + 0.001 + 0.021 ≈ **4.1245**\n",
        "\n",
        "**Valor da Estatística de Teste Qui-Quadrado: χ² ≈ 4.1245**\n",
        "\n",
        "**4.  Determinar os Graus de Liberdade (gl):**\n",
        "\n",
        "Para um teste de independência em uma tabela de contingência com *r* linhas e *c* colunas, os graus de liberdade são calculados como:\n",
        "\n",
        "gl = (Número de Linhas - 1) * (Número de Colunas - 1) = (r - 1) * (c - 1)\n",
        "\n",
        "No nosso caso, temos 3 cores de olhos (linhas) e 3 marcas de café (colunas), então:\n",
        "\n",
        "gl = (3 - 1) * (3 - 1) = 2 * 2 = **4**\n",
        "\n",
        "**Graus de Liberdade: gl = 4**\n",
        "\n",
        "**5.  Determinar o Valor Crítico Qui-Quadrado (χ²_crítico):**\n",
        "\n",
        "Precisamos encontrar o valor crítico da distribuição Qui-Quadrado com 4 graus de liberdade para um nível de significância α = 0.05.  Usamos uma tabela de distribuição Qui-Quadrado.\n",
        "\n",
        "*   Procure na tabela Qui-Quadrado para graus de liberdade = 4 e α = 0.05 (geralmente encontrado na coluna para 0.05 ou 0.95 dependendo da tabela e se é cauda superior ou inferior, para o teste de independência é sempre cauda direita, então procuramos α = 0.05 na cauda superior).\n",
        "\n",
        "*   O valor crítico Qui-Quadrado para gl = 4 e α = 0.05 é aproximadamente **χ²_crítico = 9.488**.\n",
        "\n",
        "**Valor Crítico Qui-Quadrado: χ²_crítico ≈ 9.488**\n",
        "\n",
        "**6.  Tomar a Decisão:**\n",
        "\n",
        "Comparamos a estatística de teste Qui-Quadrado (χ² ≈ 4.1245) com o valor crítico Qui-Quadrado (χ²_crítico ≈ 9.488).\n",
        "\n",
        "*   **Regra de Decisão:**\n",
        "    *   Se χ² ≥ χ²_crítico, Rejeitar H₀.\n",
        "    *   Se χ² < χ²_crítico, Falhar em Rejeitar H₀.\n",
        "\n",
        "No nosso caso, χ² ≈ 4.1245 **<** χ²_crítico ≈ 9.488.\n",
        "\n",
        "Portanto, **Falhamos em Rejeitar a Hipótese Nula (H₀).**\n",
        "\n",
        "**7.  Conclusão:**\n",
        "\n",
        "Com base no teste Qui-Quadrado para independência e um nível de significância de 0.05, **não há evidências estatísticas suficientes para rejeitar a hipótese de que a cor dos olhos e a preferência por marca de café são independentes.**\n",
        "\n",
        "Em outras palavras, não temos evidências para concluir que existe uma associação significativa entre a cor dos olhos e a marca de café preferida com base nesta amostra.  Não podemos descartar a possibilidade de que as preferências por marca de café sejam distribuídas de forma semelhante entre os diferentes grupos de cor de olhos.\n",
        "\n",
        "**Comparando com o resultado do Python:**\n",
        "\n",
        "O resultado analítico (Falhar em Rejeitar H₀) e a conclusão são consistentes com o resultado obtido usando Python no exemplo anterior. As pequenas diferenças nos valores da estatística Qui-Quadrado e do valor p (no caso do Python) são devido a arredondamentos nos cálculos manuais e à maior precisão dos cálculos computacionais."
      ],
      "metadata": {
        "id": "nkW4qOqvxfIh"
      }
    }
  ]
}