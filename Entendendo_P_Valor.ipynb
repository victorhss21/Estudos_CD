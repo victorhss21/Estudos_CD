{
  "nbformat": 4,
  "nbformat_minor": 0,
  "metadata": {
    "colab": {
      "provenance": [],
      "authorship_tag": "ABX9TyPEjY4+RSmEhftvN+57hn+p",
      "include_colab_link": true
    },
    "kernelspec": {
      "name": "python3",
      "display_name": "Python 3"
    },
    "language_info": {
      "name": "python"
    }
  },
  "cells": [
    {
      "cell_type": "markdown",
      "metadata": {
        "id": "view-in-github",
        "colab_type": "text"
      },
      "source": [
        "<a href=\"https://colab.research.google.com/github/victorhss21/Estudos_CD/blob/main/Entendendo_P_Valor.ipynb\" target=\"_parent\"><img src=\"https://colab.research.google.com/assets/colab-badge.svg\" alt=\"Open In Colab\"/></a>"
      ]
    },
    {
      "cell_type": "markdown",
      "source": [
        "### **Entendendo o p-valor**"
      ],
      "metadata": {
        "id": "kJbTqyvDKIxh"
      }
    },
    {
      "cell_type": "markdown",
      "source": [
        "> **O que o p-valor mede?**\n",
        "\n",
        "Supondo que temos um conjunto de dados, mede a probabilidade de obter um resultado igual ou mais extremo (menor ou maior, depende da hipótese alternativa) do que o observado, assumindo que a Hipótese Nula (Ho) seja verdadeira.\n",
        "\n",
        "Isto é, se observamos no conjunto de dados que a média de idade dos indivíduos é 25 anos e a Ho afima que a idade média é igual a 23 anos, o p-valor mede a probabilidade de obter uma média igual ou mais extremo que 25 anos (valor observador na amostra) sob o cenário onde a média é 23 anos.\n",
        "\n",
        "Isto é, mede a probabilidade do resultado de 25 anos, ou um valor mais extremo, ocorrer por acaso (ou melhor, por flutuações que depende das características da amostra, como tamanho e variabilidade) onde assume-se Ho como verdade.\n",
        "\n",
        "Portanto, quanto menor o p-valor, menos provável é que valores iguais ou mais extremos ao observado nos dadoa amostrais acontençam... Logo, não encontramos evidência para não rejeitar Ho. Portanto, na prática, podemos rejeita-la\n",
        "\n",
        "**OBS:** Rejeitar Ho não implica que Ho não seja verdade e vice-versa. Significa apenas que, com os dados disponíveis, não encontramos evidências suficientes (aqui, dependende do nível de confiança definido) para não rejeita-la ou rejeita-la."
      ],
      "metadata": {
        "id": "EEt_1szgKUwu"
      }
    }
  ]
}